{
 "cells": [
  {
   "cell_type": "code",
   "execution_count": null,
   "metadata": {},
   "outputs": [],
   "source": [
    "import pandas as pd\n",
    "import streamlit as st\n",
    "import altair as alt\n",
    "\n",
    "import matplotlib.pyplot as plt\n",
    "from datetime import datetime\n",
    "from statsmodels.tsa.arima_model import ARIMA\n",
    "from pmdarima.arima import ADFTest\n",
    "\n",
    "@st.cache\n",
    "def get_UN_date():\n",
    "    df = pd.read_csv(\"dadosCovidPaises.csv\")\n",
    "    return df.set_index(\"Paises\")\n",
    "\n",
    "\n",
    "df = get_UN_date()\n",
    "\n",
    "st.markdown(\"![Alt Center](https://media.giphy.com/media/JRsY1oIVA7IetTkKVO/giphy.gif)\")\n",
    "\n",
    "#st.title(\"Dados Covid-19 mundialmente\")\n",
    "st.title('🦠 Covid-19 Dashborad 🦠 ')\n",
    "st.sidebar.markdown('🦠 **Covid-19 Dashborad** 🦠 ')\n",
    "st.sidebar.markdown(''' \n",
    "Este aplicativo fornece informações sobre infecções por Covid-19 em todo o mundo.\n",
    "Os dados considerados para esta análise são de 19 meses, começando de 22-01-2020 a 25-07-2021\n",
    "Selecione os diferentes paises para variar a visualização do gráficos que é interativo.\n",
    "Dica Role o mouse sobre o gráfico para sentir o recurso interativo para a melhor visualização de cada ponto.\n",
    "\n",
    "Projetado por: \n",
    "**Rogério Lopes**  ''')\n",
    "\n",
    "countries = st.sidebar.multiselect(\"Selecione o País\", list(df.index), [\"Brazil\"])\n",
    "\n",
    "data = df.loc[countries]\n",
    "\n",
    "st.write(\"### Tabela com os dados\", data.sort_index())\n",
    "\n",
    "data = data.T.reset_index()\n",
    "data = pd.melt(data, id_vars=[\"index\"]).rename(\n",
    "    columns={\"index\": \"Meses\", \"value\": \"Numeros de infectados\"}\n",
    ")\n",
    "\n",
    "chart = (\n",
    "    alt.Chart(data, width=500, height=300)\n",
    "    .mark_circle(interpolate=\"basis\")\n",
    "    .encode(\n",
    "        x=alt.X(\"Meses:T\"),\n",
    "        y=alt.Y(\"Numeros de infectados:Q\", stack=None),\n",
    "        tooltip=[\"Paises:N\", \"Meses:T\", \"Numeros de infectados:Q\"],\n",
    "        color=\"Paises:N\"\n",
    "    ).interactive()\n",
    ")\n",
    "\n",
    "st.altair_chart(chart, use_container_width=True)\n",
    "\n",
    "def trans_data(data):\n",
    "    dados = pd.DataFrame(data).rename_axis('data')\n",
    "    dados.reset_index(level=0, inplace=True)\n",
    "    dados['data'] = pd.to_datetime(dados['data'])\n",
    "    dados = dados.set_index('data')\n",
    "    dados = dados.fillna(method='ffill')\n",
    "    adf_test = ADFTest(alpha=0.05)\n",
    "    adf_test.should_diff(dados)\n",
    "    modelo = ARIMA(dados, order=(2, 1, 2), freq=dados.index.inferred_freq)\n",
    "    modelo_treinado = modelo.fit(disp=False)\n",
    "    eixo = dados.plot(figsize=(10, 6))\n",
    "    modelo_treinado.plot_predict('2021-01-31', '2022-01-31', ax=eixo, plot_insample=True)\n",
    "    plt.title('Forecast dados Infectados')\n",
    "    plt.xlabel('Meses', fontweight='bold')\n",
    "    plt.ylabel('Valor em milhões')\n",
    "    return st.pyplot(plt)\n",
    "\n",
    "tabela_dois = st.sidebar.checkbox('Tabela de Forecast Brasil')\n",
    "if tabela_dois:\n",
    "    st.markdown('''Esse gráfico é totalmente dedicado para o Forecast com os números de infectados \n",
    "                    com o periodo de '2021-01-30', '2021-12-06'.''')\n",
    "    dados_Brasil = df.loc['Brazil']\n",
    "    dados_Brasil = dados_Brasil[dados_Brasil > 0]\n",
    "    data = trans_data(dados_Brasil)\n",
    "    #st.write(data)\n",
    "\n",
    "\n",
    "tabela_tres = st.sidebar.checkbox('Tabela de dados completa')\n",
    "if tabela_tres:\n",
    "    st.markdown('### Tabela de dados ' + str(df.shape[0]) + ' linhas e ' + str(df.shape[1]) + ' colunas.')\n",
    "    st.write(df)\n",
    "\n",
    "st.markdown('''\n",
    "Para fazer a capturas dos dados que foram utilizar para realizar essa tarefa eu utilizei o \n",
    "Repositório de dados COVID-19 pelo Centro de Ciência e Engenharia de Sistemas (CSSE) da Universidade Johns Hopkins, \n",
    "esse repositório é atualizado com fraquencia com fonte de dados confiáveis do mundo todo.\n",
    "\n",
    "**Link para ser direcionado para o repositório:**\n",
    "\n",
    "[Clique aqui para olhar e entender melhor as fontes dos dados](https://github.com/CSSEGISandData/COVID-19)\n",
    "''')\n",
    "\n"
   ]
  },
  {
   "cell_type": "markdown",
   "metadata": {},
   "source": [
    "### Esse script foi rodado para pode substituir o .ipynb para .py"
   ]
  },
  {
   "cell_type": "markdown",
   "metadata": {},
   "source": [
    "```python\n",
    "!jupyter nbconvert   --to script YOURNOTEBOOKNAME.ipynb\n",
    "!awk '!/ipython/' YOURNOTEBOOKNAME.py >  temp.py && mv temp.py app.py && rm YOURNOTEBOOKNAME.py\n",
    "!streamlit run app.py\n",
    "```"
   ]
  },
  {
   "cell_type": "code",
   "execution_count": 2,
   "metadata": {},
   "outputs": [
    {
     "name": "stdout",
     "output_type": "stream",
     "text": [
      "^C\n"
     ]
    }
   ],
   "source": [
    "!streamlit run covid.py"
   ]
  },
  {
   "cell_type": "markdown",
   "metadata": {},
   "source": [
    "### Criação do requirements.txt"
   ]
  },
  {
   "cell_type": "markdown",
   "metadata": {},
   "source": [
    "```python\n",
    "conda list -e > requirements.txt\n",
    "```"
   ]
  },
  {
   "cell_type": "code",
   "execution_count": null,
   "metadata": {},
   "outputs": [],
   "source": [
    "conda list -e > requirements.txt"
   ]
  }
 ],
 "metadata": {
  "kernelspec": {
   "display_name": "Python 3",
   "language": "python",
   "name": "python3"
  },
  "language_info": {
   "codemirror_mode": {
    "name": "ipython",
    "version": 3
   },
   "file_extension": ".py",
   "mimetype": "text/x-python",
   "name": "python",
   "nbconvert_exporter": "python",
   "pygments_lexer": "ipython3",
   "version": "3.8.5"
  }
 },
 "nbformat": 4,
 "nbformat_minor": 4
}
