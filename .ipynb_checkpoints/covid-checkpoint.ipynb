{
 "cells": [
  {
   "cell_type": "code",
   "execution_count": 4,
   "metadata": {},
   "outputs": [],
   "source": [
    "import pandas as pd\n",
    "import streamlit as st\n",
    "import altair as alt\n",
    "\n",
    "@st.cache\n",
    "def get_UN_date():\n",
    "    df = pd.read_csv(\"dadosCovidPaises.csv\")\n",
    "    return df.set_index(\"Paises\")\n",
    "\n",
    "\n",
    "df = get_UN_date()\n",
    "\n",
    "st.markdown(\"![Alt Text](https://media.giphy.com/media/JRsY1oIVA7IetTkKVO/giphy.gif)\")\n",
    "\n",
    "st.title(\"Dados Covid-19 mundialmente\")\n",
    "\n",
    "\n",
    "countries = st.sidebar.multiselect(\"Selecione o País\", list(df.index), [\"Brazil\"])\n",
    "\n",
    "data = df.loc[countries]\n",
    "\n",
    "st.write(\"### Tabela com os dados\", data.sort_index())\n",
    "\n",
    "data = data.T.reset_index()\n",
    "data = pd.melt(data, id_vars=[\"index\"]).rename(\n",
    "    columns={\"index\": \"Meses\", \"value\": \"Numeros de infectados\"}\n",
    ")\n",
    "\n",
    "chart = (\n",
    "    alt.Chart(data)\n",
    "    .mark_area(opacity=0.5)\n",
    "    .encode(\n",
    "        x=\"Meses:T\",\n",
    "        y=alt.Y(\"Numeros de infectados:Q\", stack=None),\n",
    "        color=\"Paises:N\"\n",
    "    )\n",
    ")\n",
    "st.altair_chart(chart, use_container_width=True)\n",
    "\n",
    "\n",
    "tabela_dois = st.sidebar.checkbox(' Tabela de dados completa')\n",
    "if tabela_dois:\n",
    "    st.markdown('### Tabela de dados ' + str(df.shape[0]) + ' linhas e ' + str(df.shape[1]) + ' colunas.')\n",
    "    st.write(df)"
   ]
  },
  {
   "cell_type": "markdown",
   "metadata": {},
   "source": [
    "### Esse script foi rodado para pode substituir o .ipynb para .py"
   ]
  },
  {
   "cell_type": "markdown",
   "metadata": {},
   "source": [
    "```python\n",
    "!jupyter nbconvert   --to script YOURNOTEBOOKNAME.ipynb\n",
    "!awk '!/ipython/' YOURNOTEBOOKNAME.py >  temp.py && mv temp.py app.py && rm YOURNOTEBOOKNAME.py\n",
    "!streamlit run app.py\n",
    "```"
   ]
  },
  {
   "cell_type": "code",
   "execution_count": 18,
   "metadata": {},
   "outputs": [
    {
     "name": "stdout",
     "output_type": "stream",
     "text": [
      "^C\n"
     ]
    }
   ],
   "source": [
    "!streamlit run covid.py"
   ]
  },
  {
   "cell_type": "code",
   "execution_count": 34,
   "metadata": {},
   "outputs": [
    {
     "ename": "NameError",
     "evalue": "name 'pipreqs' is not defined",
     "output_type": "error",
     "traceback": [
      "\u001b[1;31m---------------------------------------------------------------------------\u001b[0m",
      "\u001b[1;31mNameError\u001b[0m                                 Traceback (most recent call last)",
      "\u001b[1;32m<ipython-input-34-c0425de158db>\u001b[0m in \u001b[0;36m<module>\u001b[1;34m\u001b[0m\n\u001b[1;32m----> 1\u001b[1;33m \u001b[0mpipreqs\u001b[0m \u001b[1;33m/\u001b[0m\u001b[0mUsers\u001b[0m\u001b[1;33m/\u001b[0m\u001b[0mrogerio\u001b[0m\u001b[1;33m/\u001b[0m\u001b[0mDesktop\u001b[0m\u001b[1;33m/\u001b[0m\u001b[0mrogerinho\u001b[0m\u001b[1;33m/\u001b[0m\u001b[0mcovid\u001b[0m\u001b[1;33m.\u001b[0m\u001b[0mipynb\u001b[0m\u001b[1;33m\u001b[0m\u001b[1;33m\u001b[0m\u001b[0m\n\u001b[0m",
      "\u001b[1;31mNameError\u001b[0m: name 'pipreqs' is not defined"
     ]
    }
   ],
   "source": [
    "pipreqs /Users/rogerio/Desktop/rogerinho/covid.ipynb"
   ]
  },
  {
   "cell_type": "code",
   "execution_count": null,
   "metadata": {},
   "outputs": [],
   "source": []
  }
 ],
 "metadata": {
  "kernelspec": {
   "display_name": "Python 3",
   "language": "python",
   "name": "python3"
  },
  "language_info": {
   "codemirror_mode": {
    "name": "ipython",
    "version": 3
   },
   "file_extension": ".py",
   "mimetype": "text/x-python",
   "name": "python",
   "nbconvert_exporter": "python",
   "pygments_lexer": "ipython3",
   "version": "3.7.7"
  }
 },
 "nbformat": 4,
 "nbformat_minor": 4
}
