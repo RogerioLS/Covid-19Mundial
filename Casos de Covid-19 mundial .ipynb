{
 "cells": [
  {
   "cell_type": "markdown",
   "metadata": {},
   "source": [
    "# Casos confirmados de Covid-19"
   ]
  },
  {
   "cell_type": "code",
   "execution_count": 1,
   "metadata": {},
   "outputs": [
    {
     "name": "stdout",
     "output_type": "stream",
     "text": [
      "*** IMPORTES FEITO COM SUCESSO***\n"
     ]
    }
   ],
   "source": [
    "import pandas as pd\n",
    "import numpy as np\n",
    "from urllib.request import urlretrieve \n",
    "import seaborn as sns\n",
    "import matplotlib.pyplot as plt\n",
    "from statsmodels.tsa.seasonal import seasonal_decompose\n",
    "from datetime import datetime\n",
    "from statsmodels.tsa.arima_model import ARIMA\n",
    "from pmdarima.arima import auto_arima, ADFTest\n",
    "#from pmdarima.arima import ADFTest\n",
    "#registro de converters para uso do matplotlib\n",
    "from pandas.plotting import register_matplotlib_converters\n",
    "register_matplotlib_converters()\n",
    "#elemina os warnings das bibliotecas \n",
    "import warnings \n",
    "warnings.filterwarnings('ignore')\n",
    "\n",
    "%matplotlib inline\n",
    "print(\"*** IMPORTES FEITO COM SUCESSO***\")"
   ]
  },
  {
   "cell_type": "code",
   "execution_count": 2,
   "metadata": {},
   "outputs": [
    {
     "data": {
      "text/plain": [
       "('C:/Users/Rogerio Lopes/Desktop/Rogerio/dadosCovid/casosGlobalCovid.csv',\n",
       " <http.client.HTTPMessage at 0x2535c9850a0>)"
      ]
     },
     "execution_count": 2,
     "metadata": {},
     "output_type": "execute_result"
    }
   ],
   "source": [
    "url = 'https://raw.githubusercontent.com/CSSEGISandData/COVID-19/master/csse_covid_19_data/csse_covid_19_time_series/time_series_covid19_confirmed_global.csv'\n",
    "\n",
    "urlretrieve(url, 'C:/Users/Rogerio Lopes/Desktop/Rogerio/dadosCovid/casosGlobalCovid.csv')"
   ]
  },
  {
   "cell_type": "code",
   "execution_count": 3,
   "metadata": {},
   "outputs": [
    {
     "data": {
      "text/html": [
       "<div>\n",
       "<style scoped>\n",
       "    .dataframe tbody tr th:only-of-type {\n",
       "        vertical-align: middle;\n",
       "    }\n",
       "\n",
       "    .dataframe tbody tr th {\n",
       "        vertical-align: top;\n",
       "    }\n",
       "\n",
       "    .dataframe thead th {\n",
       "        text-align: right;\n",
       "    }\n",
       "</style>\n",
       "<table border=\"1\" class=\"dataframe\">\n",
       "  <thead>\n",
       "    <tr style=\"text-align: right;\">\n",
       "      <th></th>\n",
       "      <th>Province/State</th>\n",
       "      <th>Country/Region</th>\n",
       "      <th>Lat</th>\n",
       "      <th>Long</th>\n",
       "      <th>1/22/20</th>\n",
       "      <th>1/23/20</th>\n",
       "      <th>1/24/20</th>\n",
       "      <th>1/25/20</th>\n",
       "      <th>1/26/20</th>\n",
       "      <th>1/27/20</th>\n",
       "      <th>...</th>\n",
       "      <th>1/20/22</th>\n",
       "      <th>1/21/22</th>\n",
       "      <th>1/22/22</th>\n",
       "      <th>1/23/22</th>\n",
       "      <th>1/24/22</th>\n",
       "      <th>1/25/22</th>\n",
       "      <th>1/26/22</th>\n",
       "      <th>1/27/22</th>\n",
       "      <th>1/28/22</th>\n",
       "      <th>1/29/22</th>\n",
       "    </tr>\n",
       "  </thead>\n",
       "  <tbody>\n",
       "    <tr>\n",
       "      <th>0</th>\n",
       "      <td>NaN</td>\n",
       "      <td>Afghanistan</td>\n",
       "      <td>33.93911</td>\n",
       "      <td>67.709953</td>\n",
       "      <td>0</td>\n",
       "      <td>0</td>\n",
       "      <td>0</td>\n",
       "      <td>0</td>\n",
       "      <td>0</td>\n",
       "      <td>0</td>\n",
       "      <td>...</td>\n",
       "      <td>159303</td>\n",
       "      <td>159516</td>\n",
       "      <td>159548</td>\n",
       "      <td>159649</td>\n",
       "      <td>159896</td>\n",
       "      <td>160252</td>\n",
       "      <td>160692</td>\n",
       "      <td>161004</td>\n",
       "      <td>161057</td>\n",
       "      <td>161290</td>\n",
       "    </tr>\n",
       "    <tr>\n",
       "      <th>1</th>\n",
       "      <td>NaN</td>\n",
       "      <td>Albania</td>\n",
       "      <td>41.15330</td>\n",
       "      <td>20.168300</td>\n",
       "      <td>0</td>\n",
       "      <td>0</td>\n",
       "      <td>0</td>\n",
       "      <td>0</td>\n",
       "      <td>0</td>\n",
       "      <td>0</td>\n",
       "      <td>...</td>\n",
       "      <td>241512</td>\n",
       "      <td>244182</td>\n",
       "      <td>246412</td>\n",
       "      <td>248070</td>\n",
       "      <td>248070</td>\n",
       "      <td>248859</td>\n",
       "      <td>251015</td>\n",
       "      <td>252577</td>\n",
       "      <td>254126</td>\n",
       "      <td>254126</td>\n",
       "    </tr>\n",
       "    <tr>\n",
       "      <th>2</th>\n",
       "      <td>NaN</td>\n",
       "      <td>Algeria</td>\n",
       "      <td>28.03390</td>\n",
       "      <td>1.659600</td>\n",
       "      <td>0</td>\n",
       "      <td>0</td>\n",
       "      <td>0</td>\n",
       "      <td>0</td>\n",
       "      <td>0</td>\n",
       "      <td>0</td>\n",
       "      <td>...</td>\n",
       "      <td>230470</td>\n",
       "      <td>232325</td>\n",
       "      <td>234536</td>\n",
       "      <td>236670</td>\n",
       "      <td>238885</td>\n",
       "      <td>241406</td>\n",
       "      <td>243568</td>\n",
       "      <td>245698</td>\n",
       "      <td>247568</td>\n",
       "      <td>249310</td>\n",
       "    </tr>\n",
       "    <tr>\n",
       "      <th>3</th>\n",
       "      <td>NaN</td>\n",
       "      <td>Andorra</td>\n",
       "      <td>42.50630</td>\n",
       "      <td>1.521800</td>\n",
       "      <td>0</td>\n",
       "      <td>0</td>\n",
       "      <td>0</td>\n",
       "      <td>0</td>\n",
       "      <td>0</td>\n",
       "      <td>0</td>\n",
       "      <td>...</td>\n",
       "      <td>32201</td>\n",
       "      <td>33025</td>\n",
       "      <td>33025</td>\n",
       "      <td>33025</td>\n",
       "      <td>33025</td>\n",
       "      <td>34701</td>\n",
       "      <td>35028</td>\n",
       "      <td>35028</td>\n",
       "      <td>35556</td>\n",
       "      <td>35556</td>\n",
       "    </tr>\n",
       "    <tr>\n",
       "      <th>4</th>\n",
       "      <td>NaN</td>\n",
       "      <td>Angola</td>\n",
       "      <td>-11.20270</td>\n",
       "      <td>17.873900</td>\n",
       "      <td>0</td>\n",
       "      <td>0</td>\n",
       "      <td>0</td>\n",
       "      <td>0</td>\n",
       "      <td>0</td>\n",
       "      <td>0</td>\n",
       "      <td>...</td>\n",
       "      <td>95220</td>\n",
       "      <td>95676</td>\n",
       "      <td>95902</td>\n",
       "      <td>96582</td>\n",
       "      <td>97263</td>\n",
       "      <td>97594</td>\n",
       "      <td>97812</td>\n",
       "      <td>97901</td>\n",
       "      <td>98029</td>\n",
       "      <td>98057</td>\n",
       "    </tr>\n",
       "  </tbody>\n",
       "</table>\n",
       "<p>5 rows × 743 columns</p>\n",
       "</div>"
      ],
      "text/plain": [
       "  Province/State Country/Region       Lat       Long  1/22/20  1/23/20  \\\n",
       "0            NaN    Afghanistan  33.93911  67.709953        0        0   \n",
       "1            NaN        Albania  41.15330  20.168300        0        0   \n",
       "2            NaN        Algeria  28.03390   1.659600        0        0   \n",
       "3            NaN        Andorra  42.50630   1.521800        0        0   \n",
       "4            NaN         Angola -11.20270  17.873900        0        0   \n",
       "\n",
       "   1/24/20  1/25/20  1/26/20  1/27/20  ...  1/20/22  1/21/22  1/22/22  \\\n",
       "0        0        0        0        0  ...   159303   159516   159548   \n",
       "1        0        0        0        0  ...   241512   244182   246412   \n",
       "2        0        0        0        0  ...   230470   232325   234536   \n",
       "3        0        0        0        0  ...    32201    33025    33025   \n",
       "4        0        0        0        0  ...    95220    95676    95902   \n",
       "\n",
       "   1/23/22  1/24/22  1/25/22  1/26/22  1/27/22  1/28/22  1/29/22  \n",
       "0   159649   159896   160252   160692   161004   161057   161290  \n",
       "1   248070   248070   248859   251015   252577   254126   254126  \n",
       "2   236670   238885   241406   243568   245698   247568   249310  \n",
       "3    33025    33025    34701    35028    35028    35556    35556  \n",
       "4    96582    97263    97594    97812    97901    98029    98057  \n",
       "\n",
       "[5 rows x 743 columns]"
      ]
     },
     "execution_count": 3,
     "metadata": {},
     "output_type": "execute_result"
    }
   ],
   "source": [
    "df_covid = pd.read_csv('casosGlobalCovid.csv')\n",
    "df_covid.head() "
   ]
  },
  {
   "cell_type": "code",
   "execution_count": 4,
   "metadata": {},
   "outputs": [
    {
     "data": {
      "text/html": [
       "<div>\n",
       "<style scoped>\n",
       "    .dataframe tbody tr th:only-of-type {\n",
       "        vertical-align: middle;\n",
       "    }\n",
       "\n",
       "    .dataframe tbody tr th {\n",
       "        vertical-align: top;\n",
       "    }\n",
       "\n",
       "    .dataframe thead th {\n",
       "        text-align: right;\n",
       "    }\n",
       "</style>\n",
       "<table border=\"1\" class=\"dataframe\">\n",
       "  <thead>\n",
       "    <tr style=\"text-align: right;\">\n",
       "      <th></th>\n",
       "      <th>Province/State</th>\n",
       "      <th>Paises</th>\n",
       "      <th>Lat</th>\n",
       "      <th>Long</th>\n",
       "      <th>1/22/20</th>\n",
       "      <th>1/23/20</th>\n",
       "      <th>1/24/20</th>\n",
       "      <th>1/25/20</th>\n",
       "      <th>1/26/20</th>\n",
       "      <th>1/27/20</th>\n",
       "      <th>...</th>\n",
       "      <th>1/20/22</th>\n",
       "      <th>1/21/22</th>\n",
       "      <th>1/22/22</th>\n",
       "      <th>1/23/22</th>\n",
       "      <th>1/24/22</th>\n",
       "      <th>1/25/22</th>\n",
       "      <th>1/26/22</th>\n",
       "      <th>1/27/22</th>\n",
       "      <th>1/28/22</th>\n",
       "      <th>1/29/22</th>\n",
       "    </tr>\n",
       "  </thead>\n",
       "  <tbody>\n",
       "    <tr>\n",
       "      <th>0</th>\n",
       "      <td>NaN</td>\n",
       "      <td>Afghanistan</td>\n",
       "      <td>33.93911</td>\n",
       "      <td>67.709953</td>\n",
       "      <td>0</td>\n",
       "      <td>0</td>\n",
       "      <td>0</td>\n",
       "      <td>0</td>\n",
       "      <td>0</td>\n",
       "      <td>0</td>\n",
       "      <td>...</td>\n",
       "      <td>159303</td>\n",
       "      <td>159516</td>\n",
       "      <td>159548</td>\n",
       "      <td>159649</td>\n",
       "      <td>159896</td>\n",
       "      <td>160252</td>\n",
       "      <td>160692</td>\n",
       "      <td>161004</td>\n",
       "      <td>161057</td>\n",
       "      <td>161290</td>\n",
       "    </tr>\n",
       "    <tr>\n",
       "      <th>1</th>\n",
       "      <td>NaN</td>\n",
       "      <td>Albania</td>\n",
       "      <td>41.15330</td>\n",
       "      <td>20.168300</td>\n",
       "      <td>0</td>\n",
       "      <td>0</td>\n",
       "      <td>0</td>\n",
       "      <td>0</td>\n",
       "      <td>0</td>\n",
       "      <td>0</td>\n",
       "      <td>...</td>\n",
       "      <td>241512</td>\n",
       "      <td>244182</td>\n",
       "      <td>246412</td>\n",
       "      <td>248070</td>\n",
       "      <td>248070</td>\n",
       "      <td>248859</td>\n",
       "      <td>251015</td>\n",
       "      <td>252577</td>\n",
       "      <td>254126</td>\n",
       "      <td>254126</td>\n",
       "    </tr>\n",
       "    <tr>\n",
       "      <th>2</th>\n",
       "      <td>NaN</td>\n",
       "      <td>Algeria</td>\n",
       "      <td>28.03390</td>\n",
       "      <td>1.659600</td>\n",
       "      <td>0</td>\n",
       "      <td>0</td>\n",
       "      <td>0</td>\n",
       "      <td>0</td>\n",
       "      <td>0</td>\n",
       "      <td>0</td>\n",
       "      <td>...</td>\n",
       "      <td>230470</td>\n",
       "      <td>232325</td>\n",
       "      <td>234536</td>\n",
       "      <td>236670</td>\n",
       "      <td>238885</td>\n",
       "      <td>241406</td>\n",
       "      <td>243568</td>\n",
       "      <td>245698</td>\n",
       "      <td>247568</td>\n",
       "      <td>249310</td>\n",
       "    </tr>\n",
       "    <tr>\n",
       "      <th>3</th>\n",
       "      <td>NaN</td>\n",
       "      <td>Andorra</td>\n",
       "      <td>42.50630</td>\n",
       "      <td>1.521800</td>\n",
       "      <td>0</td>\n",
       "      <td>0</td>\n",
       "      <td>0</td>\n",
       "      <td>0</td>\n",
       "      <td>0</td>\n",
       "      <td>0</td>\n",
       "      <td>...</td>\n",
       "      <td>32201</td>\n",
       "      <td>33025</td>\n",
       "      <td>33025</td>\n",
       "      <td>33025</td>\n",
       "      <td>33025</td>\n",
       "      <td>34701</td>\n",
       "      <td>35028</td>\n",
       "      <td>35028</td>\n",
       "      <td>35556</td>\n",
       "      <td>35556</td>\n",
       "    </tr>\n",
       "    <tr>\n",
       "      <th>4</th>\n",
       "      <td>NaN</td>\n",
       "      <td>Angola</td>\n",
       "      <td>-11.20270</td>\n",
       "      <td>17.873900</td>\n",
       "      <td>0</td>\n",
       "      <td>0</td>\n",
       "      <td>0</td>\n",
       "      <td>0</td>\n",
       "      <td>0</td>\n",
       "      <td>0</td>\n",
       "      <td>...</td>\n",
       "      <td>95220</td>\n",
       "      <td>95676</td>\n",
       "      <td>95902</td>\n",
       "      <td>96582</td>\n",
       "      <td>97263</td>\n",
       "      <td>97594</td>\n",
       "      <td>97812</td>\n",
       "      <td>97901</td>\n",
       "      <td>98029</td>\n",
       "      <td>98057</td>\n",
       "    </tr>\n",
       "  </tbody>\n",
       "</table>\n",
       "<p>5 rows × 743 columns</p>\n",
       "</div>"
      ],
      "text/plain": [
       "  Province/State       Paises       Lat       Long  1/22/20  1/23/20  1/24/20  \\\n",
       "0            NaN  Afghanistan  33.93911  67.709953        0        0        0   \n",
       "1            NaN      Albania  41.15330  20.168300        0        0        0   \n",
       "2            NaN      Algeria  28.03390   1.659600        0        0        0   \n",
       "3            NaN      Andorra  42.50630   1.521800        0        0        0   \n",
       "4            NaN       Angola -11.20270  17.873900        0        0        0   \n",
       "\n",
       "   1/25/20  1/26/20  1/27/20  ...  1/20/22  1/21/22  1/22/22  1/23/22  \\\n",
       "0        0        0        0  ...   159303   159516   159548   159649   \n",
       "1        0        0        0  ...   241512   244182   246412   248070   \n",
       "2        0        0        0  ...   230470   232325   234536   236670   \n",
       "3        0        0        0  ...    32201    33025    33025    33025   \n",
       "4        0        0        0  ...    95220    95676    95902    96582   \n",
       "\n",
       "   1/24/22  1/25/22  1/26/22  1/27/22  1/28/22  1/29/22  \n",
       "0   159896   160252   160692   161004   161057   161290  \n",
       "1   248070   248859   251015   252577   254126   254126  \n",
       "2   238885   241406   243568   245698   247568   249310  \n",
       "3    33025    34701    35028    35028    35556    35556  \n",
       "4    97263    97594    97812    97901    98029    98057  \n",
       "\n",
       "[5 rows x 743 columns]"
      ]
     },
     "execution_count": 4,
     "metadata": {},
     "output_type": "execute_result"
    }
   ],
   "source": [
    "df_covid = df_covid.rename(columns = {'Country/Region':'Paises'})\n",
    "df_covid.head()"
   ]
  },
  {
   "cell_type": "code",
   "execution_count": 5,
   "metadata": {},
   "outputs": [
    {
     "data": {
      "text/html": [
       "<div>\n",
       "<style scoped>\n",
       "    .dataframe tbody tr th:only-of-type {\n",
       "        vertical-align: middle;\n",
       "    }\n",
       "\n",
       "    .dataframe tbody tr th {\n",
       "        vertical-align: top;\n",
       "    }\n",
       "\n",
       "    .dataframe thead th {\n",
       "        text-align: right;\n",
       "    }\n",
       "</style>\n",
       "<table border=\"1\" class=\"dataframe\">\n",
       "  <thead>\n",
       "    <tr style=\"text-align: right;\">\n",
       "      <th></th>\n",
       "      <th>Province/State</th>\n",
       "      <th>Paises</th>\n",
       "      <th>1/22/20</th>\n",
       "      <th>1/23/20</th>\n",
       "      <th>1/24/20</th>\n",
       "      <th>1/25/20</th>\n",
       "      <th>1/26/20</th>\n",
       "      <th>1/27/20</th>\n",
       "      <th>1/28/20</th>\n",
       "      <th>1/29/20</th>\n",
       "      <th>...</th>\n",
       "      <th>1/20/22</th>\n",
       "      <th>1/21/22</th>\n",
       "      <th>1/22/22</th>\n",
       "      <th>1/23/22</th>\n",
       "      <th>1/24/22</th>\n",
       "      <th>1/25/22</th>\n",
       "      <th>1/26/22</th>\n",
       "      <th>1/27/22</th>\n",
       "      <th>1/28/22</th>\n",
       "      <th>1/29/22</th>\n",
       "    </tr>\n",
       "  </thead>\n",
       "  <tbody>\n",
       "    <tr>\n",
       "      <th>0</th>\n",
       "      <td>NaN</td>\n",
       "      <td>Afghanistan</td>\n",
       "      <td>0</td>\n",
       "      <td>0</td>\n",
       "      <td>0</td>\n",
       "      <td>0</td>\n",
       "      <td>0</td>\n",
       "      <td>0</td>\n",
       "      <td>0</td>\n",
       "      <td>0</td>\n",
       "      <td>...</td>\n",
       "      <td>159303</td>\n",
       "      <td>159516</td>\n",
       "      <td>159548</td>\n",
       "      <td>159649</td>\n",
       "      <td>159896</td>\n",
       "      <td>160252</td>\n",
       "      <td>160692</td>\n",
       "      <td>161004</td>\n",
       "      <td>161057</td>\n",
       "      <td>161290</td>\n",
       "    </tr>\n",
       "    <tr>\n",
       "      <th>1</th>\n",
       "      <td>NaN</td>\n",
       "      <td>Albania</td>\n",
       "      <td>0</td>\n",
       "      <td>0</td>\n",
       "      <td>0</td>\n",
       "      <td>0</td>\n",
       "      <td>0</td>\n",
       "      <td>0</td>\n",
       "      <td>0</td>\n",
       "      <td>0</td>\n",
       "      <td>...</td>\n",
       "      <td>241512</td>\n",
       "      <td>244182</td>\n",
       "      <td>246412</td>\n",
       "      <td>248070</td>\n",
       "      <td>248070</td>\n",
       "      <td>248859</td>\n",
       "      <td>251015</td>\n",
       "      <td>252577</td>\n",
       "      <td>254126</td>\n",
       "      <td>254126</td>\n",
       "    </tr>\n",
       "    <tr>\n",
       "      <th>2</th>\n",
       "      <td>NaN</td>\n",
       "      <td>Algeria</td>\n",
       "      <td>0</td>\n",
       "      <td>0</td>\n",
       "      <td>0</td>\n",
       "      <td>0</td>\n",
       "      <td>0</td>\n",
       "      <td>0</td>\n",
       "      <td>0</td>\n",
       "      <td>0</td>\n",
       "      <td>...</td>\n",
       "      <td>230470</td>\n",
       "      <td>232325</td>\n",
       "      <td>234536</td>\n",
       "      <td>236670</td>\n",
       "      <td>238885</td>\n",
       "      <td>241406</td>\n",
       "      <td>243568</td>\n",
       "      <td>245698</td>\n",
       "      <td>247568</td>\n",
       "      <td>249310</td>\n",
       "    </tr>\n",
       "    <tr>\n",
       "      <th>3</th>\n",
       "      <td>NaN</td>\n",
       "      <td>Andorra</td>\n",
       "      <td>0</td>\n",
       "      <td>0</td>\n",
       "      <td>0</td>\n",
       "      <td>0</td>\n",
       "      <td>0</td>\n",
       "      <td>0</td>\n",
       "      <td>0</td>\n",
       "      <td>0</td>\n",
       "      <td>...</td>\n",
       "      <td>32201</td>\n",
       "      <td>33025</td>\n",
       "      <td>33025</td>\n",
       "      <td>33025</td>\n",
       "      <td>33025</td>\n",
       "      <td>34701</td>\n",
       "      <td>35028</td>\n",
       "      <td>35028</td>\n",
       "      <td>35556</td>\n",
       "      <td>35556</td>\n",
       "    </tr>\n",
       "    <tr>\n",
       "      <th>4</th>\n",
       "      <td>NaN</td>\n",
       "      <td>Angola</td>\n",
       "      <td>0</td>\n",
       "      <td>0</td>\n",
       "      <td>0</td>\n",
       "      <td>0</td>\n",
       "      <td>0</td>\n",
       "      <td>0</td>\n",
       "      <td>0</td>\n",
       "      <td>0</td>\n",
       "      <td>...</td>\n",
       "      <td>95220</td>\n",
       "      <td>95676</td>\n",
       "      <td>95902</td>\n",
       "      <td>96582</td>\n",
       "      <td>97263</td>\n",
       "      <td>97594</td>\n",
       "      <td>97812</td>\n",
       "      <td>97901</td>\n",
       "      <td>98029</td>\n",
       "      <td>98057</td>\n",
       "    </tr>\n",
       "  </tbody>\n",
       "</table>\n",
       "<p>5 rows × 741 columns</p>\n",
       "</div>"
      ],
      "text/plain": [
       "  Province/State       Paises  1/22/20  1/23/20  1/24/20  1/25/20  1/26/20  \\\n",
       "0            NaN  Afghanistan        0        0        0        0        0   \n",
       "1            NaN      Albania        0        0        0        0        0   \n",
       "2            NaN      Algeria        0        0        0        0        0   \n",
       "3            NaN      Andorra        0        0        0        0        0   \n",
       "4            NaN       Angola        0        0        0        0        0   \n",
       "\n",
       "   1/27/20  1/28/20  1/29/20  ...  1/20/22  1/21/22  1/22/22  1/23/22  \\\n",
       "0        0        0        0  ...   159303   159516   159548   159649   \n",
       "1        0        0        0  ...   241512   244182   246412   248070   \n",
       "2        0        0        0  ...   230470   232325   234536   236670   \n",
       "3        0        0        0  ...    32201    33025    33025    33025   \n",
       "4        0        0        0  ...    95220    95676    95902    96582   \n",
       "\n",
       "   1/24/22  1/25/22  1/26/22  1/27/22  1/28/22  1/29/22  \n",
       "0   159896   160252   160692   161004   161057   161290  \n",
       "1   248070   248859   251015   252577   254126   254126  \n",
       "2   238885   241406   243568   245698   247568   249310  \n",
       "3    33025    34701    35028    35028    35556    35556  \n",
       "4    97263    97594    97812    97901    98029    98057  \n",
       "\n",
       "[5 rows x 741 columns]"
      ]
     },
     "execution_count": 5,
     "metadata": {},
     "output_type": "execute_result"
    }
   ],
   "source": [
    "df_covid.drop(['Lat', 'Long'], axis=1, inplace=True)\n",
    "df_covid.head()"
   ]
  },
  {
   "cell_type": "code",
   "execution_count": 6,
   "metadata": {},
   "outputs": [
    {
     "data": {
      "text/html": [
       "<div>\n",
       "<style scoped>\n",
       "    .dataframe tbody tr th:only-of-type {\n",
       "        vertical-align: middle;\n",
       "    }\n",
       "\n",
       "    .dataframe tbody tr th {\n",
       "        vertical-align: top;\n",
       "    }\n",
       "\n",
       "    .dataframe thead th {\n",
       "        text-align: right;\n",
       "    }\n",
       "</style>\n",
       "<table border=\"1\" class=\"dataframe\">\n",
       "  <thead>\n",
       "    <tr style=\"text-align: right;\">\n",
       "      <th></th>\n",
       "      <th>1/22/20</th>\n",
       "      <th>1/23/20</th>\n",
       "      <th>1/24/20</th>\n",
       "      <th>1/25/20</th>\n",
       "      <th>1/26/20</th>\n",
       "      <th>1/27/20</th>\n",
       "      <th>1/28/20</th>\n",
       "      <th>1/29/20</th>\n",
       "      <th>1/30/20</th>\n",
       "      <th>1/31/20</th>\n",
       "      <th>...</th>\n",
       "      <th>1/20/22</th>\n",
       "      <th>1/21/22</th>\n",
       "      <th>1/22/22</th>\n",
       "      <th>1/23/22</th>\n",
       "      <th>1/24/22</th>\n",
       "      <th>1/25/22</th>\n",
       "      <th>1/26/22</th>\n",
       "      <th>1/27/22</th>\n",
       "      <th>1/28/22</th>\n",
       "      <th>1/29/22</th>\n",
       "    </tr>\n",
       "    <tr>\n",
       "      <th>Paises</th>\n",
       "      <th></th>\n",
       "      <th></th>\n",
       "      <th></th>\n",
       "      <th></th>\n",
       "      <th></th>\n",
       "      <th></th>\n",
       "      <th></th>\n",
       "      <th></th>\n",
       "      <th></th>\n",
       "      <th></th>\n",
       "      <th></th>\n",
       "      <th></th>\n",
       "      <th></th>\n",
       "      <th></th>\n",
       "      <th></th>\n",
       "      <th></th>\n",
       "      <th></th>\n",
       "      <th></th>\n",
       "      <th></th>\n",
       "      <th></th>\n",
       "      <th></th>\n",
       "    </tr>\n",
       "  </thead>\n",
       "  <tbody>\n",
       "    <tr>\n",
       "      <th>Afghanistan</th>\n",
       "      <td>0</td>\n",
       "      <td>0</td>\n",
       "      <td>0</td>\n",
       "      <td>0</td>\n",
       "      <td>0</td>\n",
       "      <td>0</td>\n",
       "      <td>0</td>\n",
       "      <td>0</td>\n",
       "      <td>0</td>\n",
       "      <td>0</td>\n",
       "      <td>...</td>\n",
       "      <td>159303</td>\n",
       "      <td>159516</td>\n",
       "      <td>159548</td>\n",
       "      <td>159649</td>\n",
       "      <td>159896</td>\n",
       "      <td>160252</td>\n",
       "      <td>160692</td>\n",
       "      <td>161004</td>\n",
       "      <td>161057</td>\n",
       "      <td>161290</td>\n",
       "    </tr>\n",
       "    <tr>\n",
       "      <th>Albania</th>\n",
       "      <td>0</td>\n",
       "      <td>0</td>\n",
       "      <td>0</td>\n",
       "      <td>0</td>\n",
       "      <td>0</td>\n",
       "      <td>0</td>\n",
       "      <td>0</td>\n",
       "      <td>0</td>\n",
       "      <td>0</td>\n",
       "      <td>0</td>\n",
       "      <td>...</td>\n",
       "      <td>241512</td>\n",
       "      <td>244182</td>\n",
       "      <td>246412</td>\n",
       "      <td>248070</td>\n",
       "      <td>248070</td>\n",
       "      <td>248859</td>\n",
       "      <td>251015</td>\n",
       "      <td>252577</td>\n",
       "      <td>254126</td>\n",
       "      <td>254126</td>\n",
       "    </tr>\n",
       "    <tr>\n",
       "      <th>Algeria</th>\n",
       "      <td>0</td>\n",
       "      <td>0</td>\n",
       "      <td>0</td>\n",
       "      <td>0</td>\n",
       "      <td>0</td>\n",
       "      <td>0</td>\n",
       "      <td>0</td>\n",
       "      <td>0</td>\n",
       "      <td>0</td>\n",
       "      <td>0</td>\n",
       "      <td>...</td>\n",
       "      <td>230470</td>\n",
       "      <td>232325</td>\n",
       "      <td>234536</td>\n",
       "      <td>236670</td>\n",
       "      <td>238885</td>\n",
       "      <td>241406</td>\n",
       "      <td>243568</td>\n",
       "      <td>245698</td>\n",
       "      <td>247568</td>\n",
       "      <td>249310</td>\n",
       "    </tr>\n",
       "    <tr>\n",
       "      <th>Andorra</th>\n",
       "      <td>0</td>\n",
       "      <td>0</td>\n",
       "      <td>0</td>\n",
       "      <td>0</td>\n",
       "      <td>0</td>\n",
       "      <td>0</td>\n",
       "      <td>0</td>\n",
       "      <td>0</td>\n",
       "      <td>0</td>\n",
       "      <td>0</td>\n",
       "      <td>...</td>\n",
       "      <td>32201</td>\n",
       "      <td>33025</td>\n",
       "      <td>33025</td>\n",
       "      <td>33025</td>\n",
       "      <td>33025</td>\n",
       "      <td>34701</td>\n",
       "      <td>35028</td>\n",
       "      <td>35028</td>\n",
       "      <td>35556</td>\n",
       "      <td>35556</td>\n",
       "    </tr>\n",
       "    <tr>\n",
       "      <th>Angola</th>\n",
       "      <td>0</td>\n",
       "      <td>0</td>\n",
       "      <td>0</td>\n",
       "      <td>0</td>\n",
       "      <td>0</td>\n",
       "      <td>0</td>\n",
       "      <td>0</td>\n",
       "      <td>0</td>\n",
       "      <td>0</td>\n",
       "      <td>0</td>\n",
       "      <td>...</td>\n",
       "      <td>95220</td>\n",
       "      <td>95676</td>\n",
       "      <td>95902</td>\n",
       "      <td>96582</td>\n",
       "      <td>97263</td>\n",
       "      <td>97594</td>\n",
       "      <td>97812</td>\n",
       "      <td>97901</td>\n",
       "      <td>98029</td>\n",
       "      <td>98057</td>\n",
       "    </tr>\n",
       "  </tbody>\n",
       "</table>\n",
       "<p>5 rows × 739 columns</p>\n",
       "</div>"
      ],
      "text/plain": [
       "             1/22/20  1/23/20  1/24/20  1/25/20  1/26/20  1/27/20  1/28/20  \\\n",
       "Paises                                                                       \n",
       "Afghanistan        0        0        0        0        0        0        0   \n",
       "Albania            0        0        0        0        0        0        0   \n",
       "Algeria            0        0        0        0        0        0        0   \n",
       "Andorra            0        0        0        0        0        0        0   \n",
       "Angola             0        0        0        0        0        0        0   \n",
       "\n",
       "             1/29/20  1/30/20  1/31/20  ...  1/20/22  1/21/22  1/22/22  \\\n",
       "Paises                                  ...                              \n",
       "Afghanistan        0        0        0  ...   159303   159516   159548   \n",
       "Albania            0        0        0  ...   241512   244182   246412   \n",
       "Algeria            0        0        0  ...   230470   232325   234536   \n",
       "Andorra            0        0        0  ...    32201    33025    33025   \n",
       "Angola             0        0        0  ...    95220    95676    95902   \n",
       "\n",
       "             1/23/22  1/24/22  1/25/22  1/26/22  1/27/22  1/28/22  1/29/22  \n",
       "Paises                                                                      \n",
       "Afghanistan   159649   159896   160252   160692   161004   161057   161290  \n",
       "Albania       248070   248070   248859   251015   252577   254126   254126  \n",
       "Algeria       236670   238885   241406   243568   245698   247568   249310  \n",
       "Andorra        33025    33025    34701    35028    35028    35556    35556  \n",
       "Angola         96582    97263    97594    97812    97901    98029    98057  \n",
       "\n",
       "[5 rows x 739 columns]"
      ]
     },
     "execution_count": 6,
     "metadata": {},
     "output_type": "execute_result"
    }
   ],
   "source": [
    "df_pais = df_covid.groupby('Paises').sum()\n",
    "df_pais.head()"
   ]
  },
  {
   "cell_type": "code",
   "execution_count": 7,
   "metadata": {},
   "outputs": [],
   "source": [
    "date = df_pais.loc['Brazil'].index\n",
    "cases = df_pais.loc['Brazil'].values\n",
    "# date cases"
   ]
  },
  {
   "cell_type": "code",
   "execution_count": 8,
   "metadata": {},
   "outputs": [
    {
     "data": {
      "image/png": "[encoded data removed]",
      "text/plain": [
       "<Figure size 432x288 with 1 Axes>"
      ]
     },
     "metadata": {
      "needs_background": "light"
     },
     "output_type": "display_data"
    }
   ],
   "source": [
    "plt.figure(constrained_layout=True)\n",
    "plt.plot(pd.to_datetime(date), cases, color='#17a589', linestyle='--', linewidth=2)\n",
    "plt.title('Total de casos confirmados de covid-19 no Brazil')\n",
    "plt.legend(['Linha de Casos'])\n",
    "plt.xlabel('Meses')\n",
    "plt.xticks(rotation=45)\n",
    "plt.ylabel('Valor em milhões')\n",
    "_ = plt.show()"
   ]
  },
  {
   "cell_type": "code",
   "execution_count": 9,
   "metadata": {},
   "outputs": [
    {
     "data": {
      "text/plain": [
       "1/22/20    0\n",
       "1/23/20    0\n",
       "1/24/20    0\n",
       "1/25/20    0\n",
       "1/26/20    0\n",
       "1/27/20    0\n",
       "1/28/20    0\n",
       "1/29/20    0\n",
       "1/30/20    0\n",
       "Name: Brazil, dtype: int64"
      ]
     },
     "execution_count": 9,
     "metadata": {},
     "output_type": "execute_result"
    }
   ],
   "source": [
    "dados_Brasil = df_pais.loc['Brazil']\n",
    "dados_Brasil[0:9]"
   ]
  },
  {
   "cell_type": "markdown",
   "metadata": {},
   "source": [
    "# Eliminando números de caso \"0\""
   ]
  },
  {
   "cell_type": "code",
   "execution_count": 10,
   "metadata": {},
   "outputs": [
    {
     "data": {
      "text/plain": [
       "2/26/20    1\n",
       "2/27/20    1\n",
       "2/28/20    1\n",
       "2/29/20    2\n",
       "3/1/20     2\n",
       "3/2/20     2\n",
       "3/3/20     2\n",
       "3/4/20     4\n",
       "3/5/20     4\n",
       "Name: Brazil, dtype: int64"
      ]
     },
     "execution_count": 10,
     "metadata": {},
     "output_type": "execute_result"
    }
   ],
   "source": [
    "dados_Brasil = dados_Brasil[dados_Brasil > 0]\n",
    "dados_Brasil[0:9]"
   ]
  },
  {
   "cell_type": "code",
   "execution_count": 11,
   "metadata": {},
   "outputs": [],
   "source": [
    "etad = dados_Brasil.index\n",
    "sesac = dados_Brasil.values"
   ]
  },
  {
   "cell_type": "code",
   "execution_count": 12,
   "metadata": {},
   "outputs": [
    {
     "data": {
      "image/png": "[encoded data removed]",
      "text/plain": [
       "<Figure size 1080x360 with 2 Axes>"
      ]
     },
     "metadata": {
      "needs_background": "light"
     },
     "output_type": "display_data"
    }
   ],
   "source": [
    "tam = len(dados_Brasil)\n",
    "\n",
    "plt.figure(figsize=(15, 5), constrained_layout=False)\n",
    "ax = plt.subplot(1, 2, 1)\n",
    "plt.plot(pd.to_datetime(etad)[tam-90:tam], sesac[tam-90:tam], color='#17a589', linestyle='--', linewidth=2)\n",
    "plt.title('Total de casos confirmados de covid-19 no Brazil -3 meses')\n",
    "plt.legend(['Linha de Casos'])\n",
    "plt.xlabel('Meses')\n",
    "plt.xticks(rotation=45)\n",
    "plt.ylabel('Valor em milhões')\n",
    "\n",
    "ax = plt.subplot(1, 2, 2)\n",
    "plt.plot(pd.to_datetime(etad)[tam-30:tam], sesac[tam-30:tam], color='#f4d03f', linestyle='--', linewidth=2 )#, marker='o')\n",
    "plt.title('Total de casos confirmados de covid-19 no Brazil -1 mês')\n",
    "plt.legend(['Linha de Casos'])\n",
    "plt.xlabel('Meses')\n",
    "plt.xticks(rotation=45)\n",
    "plt.ylabel('Valor em milhões')\n",
    "_ = plt.show()"
   ]
  },
  {
   "cell_type": "markdown",
   "metadata": {},
   "source": [
    "# Nova analise com o métedo ARIMA\n",
    "tendencia, sazonalidade e aleatoridade"
   ]
  },
  {
   "cell_type": "code",
   "execution_count": 13,
   "metadata": {},
   "outputs": [
    {
     "data": {
      "text/html": [
       "<div>\n",
       "<style scoped>\n",
       "    .dataframe tbody tr th:only-of-type {\n",
       "        vertical-align: middle;\n",
       "    }\n",
       "\n",
       "    .dataframe tbody tr th {\n",
       "        vertical-align: top;\n",
       "    }\n",
       "\n",
       "    .dataframe thead th {\n",
       "        text-align: right;\n",
       "    }\n",
       "</style>\n",
       "<table border=\"1\" class=\"dataframe\">\n",
       "  <thead>\n",
       "    <tr style=\"text-align: right;\">\n",
       "      <th></th>\n",
       "      <th>Brazil</th>\n",
       "    </tr>\n",
       "    <tr>\n",
       "      <th>data</th>\n",
       "      <th></th>\n",
       "    </tr>\n",
       "  </thead>\n",
       "  <tbody>\n",
       "    <tr>\n",
       "      <th>2/26/20</th>\n",
       "      <td>1</td>\n",
       "    </tr>\n",
       "    <tr>\n",
       "      <th>2/27/20</th>\n",
       "      <td>1</td>\n",
       "    </tr>\n",
       "    <tr>\n",
       "      <th>2/28/20</th>\n",
       "      <td>1</td>\n",
       "    </tr>\n",
       "    <tr>\n",
       "      <th>2/29/20</th>\n",
       "      <td>2</td>\n",
       "    </tr>\n",
       "    <tr>\n",
       "      <th>3/1/20</th>\n",
       "      <td>2</td>\n",
       "    </tr>\n",
       "  </tbody>\n",
       "</table>\n",
       "</div>"
      ],
      "text/plain": [
       "         Brazil\n",
       "data           \n",
       "2/26/20       1\n",
       "2/27/20       1\n",
       "2/28/20       1\n",
       "2/29/20       2\n",
       "3/1/20        2"
      ]
     },
     "execution_count": 13,
     "metadata": {},
     "output_type": "execute_result"
    }
   ],
   "source": [
    "dados_Brasil_dois = pd.DataFrame(dados_Brasil).rename_axis('data')\n",
    "dados_Brasil_dois.head()"
   ]
  },
  {
   "cell_type": "code",
   "execution_count": 14,
   "metadata": {},
   "outputs": [
    {
     "data": {
      "text/html": [
       "<div>\n",
       "<style scoped>\n",
       "    .dataframe tbody tr th:only-of-type {\n",
       "        vertical-align: middle;\n",
       "    }\n",
       "\n",
       "    .dataframe tbody tr th {\n",
       "        vertical-align: top;\n",
       "    }\n",
       "\n",
       "    .dataframe thead th {\n",
       "        text-align: right;\n",
       "    }\n",
       "</style>\n",
       "<table border=\"1\" class=\"dataframe\">\n",
       "  <thead>\n",
       "    <tr style=\"text-align: right;\">\n",
       "      <th></th>\n",
       "      <th>data</th>\n",
       "      <th>Brazil</th>\n",
       "    </tr>\n",
       "  </thead>\n",
       "  <tbody>\n",
       "    <tr>\n",
       "      <th>0</th>\n",
       "      <td>2/26/20</td>\n",
       "      <td>1</td>\n",
       "    </tr>\n",
       "    <tr>\n",
       "      <th>1</th>\n",
       "      <td>2/27/20</td>\n",
       "      <td>1</td>\n",
       "    </tr>\n",
       "    <tr>\n",
       "      <th>2</th>\n",
       "      <td>2/28/20</td>\n",
       "      <td>1</td>\n",
       "    </tr>\n",
       "    <tr>\n",
       "      <th>3</th>\n",
       "      <td>2/29/20</td>\n",
       "      <td>2</td>\n",
       "    </tr>\n",
       "    <tr>\n",
       "      <th>4</th>\n",
       "      <td>3/1/20</td>\n",
       "      <td>2</td>\n",
       "    </tr>\n",
       "  </tbody>\n",
       "</table>\n",
       "</div>"
      ],
      "text/plain": [
       "      data  Brazil\n",
       "0  2/26/20       1\n",
       "1  2/27/20       1\n",
       "2  2/28/20       1\n",
       "3  2/29/20       2\n",
       "4   3/1/20       2"
      ]
     },
     "execution_count": 14,
     "metadata": {},
     "output_type": "execute_result"
    }
   ],
   "source": [
    "dados_Brasil_dois.reset_index(level=0, inplace=True)\n",
    "dados_Brasil_dois.head()"
   ]
  },
  {
   "cell_type": "code",
   "execution_count": 15,
   "metadata": {},
   "outputs": [
    {
     "data": {
      "text/plain": [
       "data      0\n",
       "Brazil    0\n",
       "dtype: int64"
      ]
     },
     "execution_count": 15,
     "metadata": {},
     "output_type": "execute_result"
    }
   ],
   "source": [
    "dados_Brasil_dois.isnull().sum()"
   ]
  },
  {
   "cell_type": "code",
   "execution_count": 16,
   "metadata": {},
   "outputs": [
    {
     "name": "stdout",
     "output_type": "stream",
     "text": [
      "data      object\n",
      "Brazil     int64\n",
      "dtype: object\n"
     ]
    }
   ],
   "source": [
    "print(dados_Brasil_dois.dtypes)"
   ]
  },
  {
   "cell_type": "code",
   "execution_count": 17,
   "metadata": {},
   "outputs": [
    {
     "data": {
      "text/html": [
       "<div>\n",
       "<style scoped>\n",
       "    .dataframe tbody tr th:only-of-type {\n",
       "        vertical-align: middle;\n",
       "    }\n",
       "\n",
       "    .dataframe tbody tr th {\n",
       "        vertical-align: top;\n",
       "    }\n",
       "\n",
       "    .dataframe thead th {\n",
       "        text-align: right;\n",
       "    }\n",
       "</style>\n",
       "<table border=\"1\" class=\"dataframe\">\n",
       "  <thead>\n",
       "    <tr style=\"text-align: right;\">\n",
       "      <th></th>\n",
       "      <th>data</th>\n",
       "      <th>Brazil</th>\n",
       "    </tr>\n",
       "  </thead>\n",
       "  <tbody>\n",
       "    <tr>\n",
       "      <th>0</th>\n",
       "      <td>2020-02-26</td>\n",
       "      <td>1</td>\n",
       "    </tr>\n",
       "    <tr>\n",
       "      <th>1</th>\n",
       "      <td>2020-02-27</td>\n",
       "      <td>1</td>\n",
       "    </tr>\n",
       "    <tr>\n",
       "      <th>2</th>\n",
       "      <td>2020-02-28</td>\n",
       "      <td>1</td>\n",
       "    </tr>\n",
       "    <tr>\n",
       "      <th>3</th>\n",
       "      <td>2020-02-29</td>\n",
       "      <td>2</td>\n",
       "    </tr>\n",
       "    <tr>\n",
       "      <th>4</th>\n",
       "      <td>2020-03-01</td>\n",
       "      <td>2</td>\n",
       "    </tr>\n",
       "  </tbody>\n",
       "</table>\n",
       "</div>"
      ],
      "text/plain": [
       "        data  Brazil\n",
       "0 2020-02-26       1\n",
       "1 2020-02-27       1\n",
       "2 2020-02-28       1\n",
       "3 2020-02-29       2\n",
       "4 2020-03-01       2"
      ]
     },
     "execution_count": 17,
     "metadata": {},
     "output_type": "execute_result"
    }
   ],
   "source": [
    "dados_Brasil_dois['data'] = pd.to_datetime(dados_Brasil_dois['data'])\n",
    "dados_Brasil_dois.head()"
   ]
  },
  {
   "cell_type": "code",
   "execution_count": 18,
   "metadata": {},
   "outputs": [
    {
     "name": "stdout",
     "output_type": "stream",
     "text": [
      "data      datetime64[ns]\n",
      "Brazil             int64\n",
      "dtype: object\n"
     ]
    }
   ],
   "source": [
    "print(dados_Brasil_dois.dtypes)"
   ]
  },
  {
   "cell_type": "code",
   "execution_count": 19,
   "metadata": {},
   "outputs": [
    {
     "data": {
      "text/html": [
       "<div>\n",
       "<style scoped>\n",
       "    .dataframe tbody tr th:only-of-type {\n",
       "        vertical-align: middle;\n",
       "    }\n",
       "\n",
       "    .dataframe tbody tr th {\n",
       "        vertical-align: top;\n",
       "    }\n",
       "\n",
       "    .dataframe thead th {\n",
       "        text-align: right;\n",
       "    }\n",
       "</style>\n",
       "<table border=\"1\" class=\"dataframe\">\n",
       "  <thead>\n",
       "    <tr style=\"text-align: right;\">\n",
       "      <th></th>\n",
       "      <th>Brazil</th>\n",
       "    </tr>\n",
       "    <tr>\n",
       "      <th>data</th>\n",
       "      <th></th>\n",
       "    </tr>\n",
       "  </thead>\n",
       "  <tbody>\n",
       "    <tr>\n",
       "      <th>2020-02-26</th>\n",
       "      <td>1</td>\n",
       "    </tr>\n",
       "    <tr>\n",
       "      <th>2020-02-27</th>\n",
       "      <td>1</td>\n",
       "    </tr>\n",
       "    <tr>\n",
       "      <th>2020-02-28</th>\n",
       "      <td>1</td>\n",
       "    </tr>\n",
       "    <tr>\n",
       "      <th>2020-02-29</th>\n",
       "      <td>2</td>\n",
       "    </tr>\n",
       "    <tr>\n",
       "      <th>2020-03-01</th>\n",
       "      <td>2</td>\n",
       "    </tr>\n",
       "  </tbody>\n",
       "</table>\n",
       "</div>"
      ],
      "text/plain": [
       "            Brazil\n",
       "data              \n",
       "2020-02-26       1\n",
       "2020-02-27       1\n",
       "2020-02-28       1\n",
       "2020-02-29       2\n",
       "2020-03-01       2"
      ]
     },
     "execution_count": 19,
     "metadata": {},
     "output_type": "execute_result"
    }
   ],
   "source": [
    "dados = dados_Brasil_dois.set_index('data')\n",
    "dados.head()"
   ]
  },
  {
   "cell_type": "code",
   "execution_count": 20,
   "metadata": {},
   "outputs": [
    {
     "data": {
      "text/plain": [
       "0    1\n",
       "1    1\n",
       "2    1\n",
       "3    2\n",
       "4    2\n",
       "Name: Brazil, dtype: int64"
      ]
     },
     "execution_count": 20,
     "metadata": {},
     "output_type": "execute_result"
    }
   ],
   "source": [
    "ts = dados_Brasil_dois['Brazil']\n",
    "ts.head()"
   ]
  },
  {
   "cell_type": "markdown",
   "metadata": {},
   "source": [
    "- Depois de ter feito todos os paços a melhor opção é colocar tudo isso dentro de uma função para otimização de código"
   ]
  },
  {
   "cell_type": "code",
   "execution_count": 21,
   "metadata": {},
   "outputs": [],
   "source": [
    "def trans_data(data):\n",
    "    dados = pd.DataFrame(data).rename_axis('data')\n",
    "    dados.reset_index(level=0, inplace = True)\n",
    "    dados['data'] = pd.to_datetime(dados['data'])\n",
    "    dados = dados.set_index('data')\n",
    "    dados = dados['Brazil']\n",
    "    return dados"
   ]
  },
  {
   "cell_type": "code",
   "execution_count": 22,
   "metadata": {},
   "outputs": [
    {
     "data": {
      "text/plain": [
       "data\n",
       "2020-02-26    1\n",
       "2020-02-27    1\n",
       "2020-02-28    1\n",
       "2020-02-29    2\n",
       "2020-03-01    2\n",
       "Name: Brazil, dtype: int64"
      ]
     },
     "execution_count": 22,
     "metadata": {},
     "output_type": "execute_result"
    }
   ],
   "source": [
    "ts = trans_data(dados_Brasil)\n",
    "ts.head()"
   ]
  },
  {
   "cell_type": "code",
   "execution_count": 23,
   "metadata": {},
   "outputs": [],
   "source": [
    "decomposicao = seasonal_decompose(ts)"
   ]
  },
  {
   "cell_type": "code",
   "execution_count": 24,
   "metadata": {},
   "outputs": [
    {
     "data": {
      "text/plain": [
       "data\n",
       "2020-02-26             NaN\n",
       "2020-02-27             NaN\n",
       "2020-02-28             NaN\n",
       "2020-02-29    1.571429e+00\n",
       "2020-03-01    2.000000e+00\n",
       "                  ...     \n",
       "2022-01-25    2.441012e+07\n",
       "2022-01-26    2.459935e+07\n",
       "2022-01-27             NaN\n",
       "2022-01-28             NaN\n",
       "2022-01-29             NaN\n",
       "Name: trend, Length: 704, dtype: float64"
      ]
     },
     "execution_count": 24,
     "metadata": {},
     "output_type": "execute_result"
    }
   ],
   "source": [
    "#tendencia\n",
    "tendencia = decomposicao.trend\n",
    "tendencia"
   ]
  },
  {
   "cell_type": "code",
   "execution_count": 25,
   "metadata": {},
   "outputs": [
    {
     "data": {
      "text/plain": [
       "data\n",
       "2020-02-26    -2225.281093\n",
       "2020-02-27     6002.489932\n",
       "2020-02-28    12466.192674\n",
       "2020-02-29    12987.747479\n",
       "2020-03-01    -2426.808235\n",
       "                  ...     \n",
       "2022-01-25   -10538.681093\n",
       "2022-01-26    -2225.281093\n",
       "2022-01-27     6002.489932\n",
       "2022-01-28    12466.192674\n",
       "2022-01-29    12987.747479\n",
       "Name: seasonal, Length: 704, dtype: float64"
      ]
     },
     "execution_count": 25,
     "metadata": {},
     "output_type": "execute_result"
    }
   ],
   "source": [
    "#sozonalidade\n",
    "sazonal = decomposicao.seasonal\n",
    "sazonal"
   ]
  },
  {
   "cell_type": "code",
   "execution_count": 26,
   "metadata": {},
   "outputs": [
    {
     "data": {
      "text/plain": [
       "data\n",
       "2020-02-26             NaN\n",
       "2020-02-27             NaN\n",
       "2020-02-28             NaN\n",
       "2020-02-29   -12987.318907\n",
       "2020-03-01     2426.808235\n",
       "                  ...     \n",
       "2022-01-25   -57261.747479\n",
       "2022-01-26   -37031.147479\n",
       "2022-01-27             NaN\n",
       "2022-01-28             NaN\n",
       "2022-01-29             NaN\n",
       "Name: resid, Length: 704, dtype: float64"
      ]
     },
     "execution_count": 26,
     "metadata": {},
     "output_type": "execute_result"
    }
   ],
   "source": [
    "#erro\n",
    "aleatorio = decomposicao.resid\n",
    "aleatorio"
   ]
  },
  {
   "cell_type": "code",
   "execution_count": 27,
   "metadata": {},
   "outputs": [
    {
     "data": {
      "image/png": "[encoded data removed]",
      "text/plain": [
       "<Figure size 432x288 with 1 Axes>"
      ]
     },
     "metadata": {
      "needs_background": "light"
     },
     "output_type": "display_data"
    }
   ],
   "source": [
    "# Visualização de gráfico para cada formato da série temporal\n",
    "plt.plot(sazonal)\n",
    "plt.xticks(rotation=45)\n",
    "_ = plt.show()"
   ]
  },
  {
   "cell_type": "code",
   "execution_count": 28,
   "metadata": {},
   "outputs": [
    {
     "data": {
      "image/png": "[encoded data removed]",
      "text/plain": [
       "<Figure size 432x288 with 1 Axes>"
      ]
     },
     "metadata": {
      "needs_background": "light"
     },
     "output_type": "display_data"
    }
   ],
   "source": [
    "plt.plot(tendencia)\n",
    "plt.xticks(rotation=45)\n",
    "_ = plt.show()"
   ]
  },
  {
   "cell_type": "code",
   "execution_count": 29,
   "metadata": {},
   "outputs": [
    {
     "data": {
      "image/png": "[encoded data removed]",
      "text/plain": [
       "<Figure size 432x288 with 1 Axes>"
      ]
     },
     "metadata": {
      "needs_background": "light"
     },
     "output_type": "display_data"
    }
   ],
   "source": [
    "plt.plot(aleatorio)\n",
    "plt.xticks(rotation=45)\n",
    "_ = plt.show()"
   ]
  },
  {
   "cell_type": "markdown",
   "metadata": {},
   "source": [
    "- Ou podemos exibir tudo de uma unica vez"
   ]
  },
  {
   "cell_type": "code",
   "execution_count": 30,
   "metadata": {},
   "outputs": [],
   "source": [
    "decomp = seasonal_decompose(ts,freq=20)"
   ]
  },
  {
   "cell_type": "code",
   "execution_count": 31,
   "metadata": {},
   "outputs": [
    {
     "data": {
      "image/png": "[encoded data removed]",
      "text/plain": [
       "<Figure size 1080x720 with 4 Axes>"
      ]
     },
     "metadata": {
      "needs_background": "light"
     },
     "output_type": "display_data"
    }
   ],
   "source": [
    "fig = decomp.plot()\n",
    "fig.set_size_inches(15,10)\n",
    "plt.xticks(rotation=45)\n",
    "_ = plt.show()"
   ]
  },
  {
   "cell_type": "code",
   "execution_count": 32,
   "metadata": {},
   "outputs": [
    {
     "data": {
      "text/html": [
       "<table class=\"simpletable\">\n",
       "<caption>ARIMA Model Results</caption>\n",
       "<tr>\n",
       "  <th>Dep. Variable:</th>     <td>D.Brazil</td>     <th>  No. Observations:  </th>    <td>703</td>   \n",
       "</tr>\n",
       "<tr>\n",
       "  <th>Model:</th>          <td>ARIMA(2, 1, 2)</td>  <th>  Log Likelihood     </th> <td>-7765.977</td>\n",
       "</tr>\n",
       "<tr>\n",
       "  <th>Method:</th>             <td>css-mle</td>     <th>  S.D. of innovations</th> <td>15144.906</td>\n",
       "</tr>\n",
       "<tr>\n",
       "  <th>Date:</th>          <td>Sun, 30 Jan 2022</td> <th>  AIC                </th> <td>15543.955</td>\n",
       "</tr>\n",
       "<tr>\n",
       "  <th>Time:</th>              <td>12:32:48</td>     <th>  BIC                </th> <td>15571.287</td>\n",
       "</tr>\n",
       "<tr>\n",
       "  <th>Sample:</th>           <td>02-27-2020</td>    <th>  HQIC               </th> <td>15554.518</td>\n",
       "</tr>\n",
       "<tr>\n",
       "  <th></th>                 <td>- 01-29-2022</td>   <th>                     </th>     <td> </td>    \n",
       "</tr>\n",
       "</table>\n",
       "<table class=\"simpletable\">\n",
       "<tr>\n",
       "         <td></td>           <th>coef</th>     <th>std err</th>      <th>z</th>      <th>P>|z|</th>  <th>[0.025</th>    <th>0.975]</th>  \n",
       "</tr>\n",
       "<tr>\n",
       "  <th>const</th>          <td> 3.593e+04</td> <td> 7.92e+04</td> <td>    0.453</td> <td> 0.650</td> <td>-1.19e+05</td> <td> 1.91e+05</td>\n",
       "</tr>\n",
       "<tr>\n",
       "  <th>ar.L1.D.Brazil</th> <td>    1.1720</td> <td>    0.074</td> <td>   15.773</td> <td> 0.000</td> <td>    1.026</td> <td>    1.318</td>\n",
       "</tr>\n",
       "<tr>\n",
       "  <th>ar.L2.D.Brazil</th> <td>   -0.1741</td> <td>    0.074</td> <td>   -2.349</td> <td> 0.019</td> <td>   -0.319</td> <td>   -0.029</td>\n",
       "</tr>\n",
       "<tr>\n",
       "  <th>ma.L1.D.Brazil</th> <td>   -0.4197</td> <td>    0.068</td> <td>   -6.182</td> <td> 0.000</td> <td>   -0.553</td> <td>   -0.287</td>\n",
       "</tr>\n",
       "<tr>\n",
       "  <th>ma.L2.D.Brazil</th> <td>   -0.3072</td> <td>    0.046</td> <td>   -6.713</td> <td> 0.000</td> <td>   -0.397</td> <td>   -0.218</td>\n",
       "</tr>\n",
       "</table>\n",
       "<table class=\"simpletable\">\n",
       "<caption>Roots</caption>\n",
       "<tr>\n",
       "    <td></td>   <th>            Real</th>  <th>         Imaginary</th> <th>         Modulus</th>  <th>        Frequency</th>\n",
       "</tr>\n",
       "<tr>\n",
       "  <th>AR.1</th> <td>           1.0026</td> <td>          +0.0000j</td> <td>           1.0026</td> <td>           0.0000</td>\n",
       "</tr>\n",
       "<tr>\n",
       "  <th>AR.2</th> <td>           5.7281</td> <td>          +0.0000j</td> <td>           5.7281</td> <td>           0.0000</td>\n",
       "</tr>\n",
       "<tr>\n",
       "  <th>MA.1</th> <td>           1.2461</td> <td>          +0.0000j</td> <td>           1.2461</td> <td>           0.0000</td>\n",
       "</tr>\n",
       "<tr>\n",
       "  <th>MA.2</th> <td>          -2.6122</td> <td>          +0.0000j</td> <td>           2.6122</td> <td>           0.5000</td>\n",
       "</tr>\n",
       "</table>"
      ],
      "text/plain": [
       "<class 'statsmodels.iolib.summary.Summary'>\n",
       "\"\"\"\n",
       "                             ARIMA Model Results                              \n",
       "==============================================================================\n",
       "Dep. Variable:               D.Brazil   No. Observations:                  703\n",
       "Model:                 ARIMA(2, 1, 2)   Log Likelihood               -7765.977\n",
       "Method:                       css-mle   S.D. of innovations          15144.906\n",
       "Date:                Sun, 30 Jan 2022   AIC                          15543.955\n",
       "Time:                        12:32:48   BIC                          15571.287\n",
       "Sample:                    02-27-2020   HQIC                         15554.518\n",
       "                         - 01-29-2022                                         \n",
       "==================================================================================\n",
       "                     coef    std err          z      P>|z|      [0.025      0.975]\n",
       "----------------------------------------------------------------------------------\n",
       "const           3.593e+04   7.92e+04      0.453      0.650   -1.19e+05    1.91e+05\n",
       "ar.L1.D.Brazil     1.1720      0.074     15.773      0.000       1.026       1.318\n",
       "ar.L2.D.Brazil    -0.1741      0.074     -2.349      0.019      -0.319      -0.029\n",
       "ma.L1.D.Brazil    -0.4197      0.068     -6.182      0.000      -0.553      -0.287\n",
       "ma.L2.D.Brazil    -0.3072      0.046     -6.713      0.000      -0.397      -0.218\n",
       "                                    Roots                                    \n",
       "=============================================================================\n",
       "                  Real          Imaginary           Modulus         Frequency\n",
       "-----------------------------------------------------------------------------\n",
       "AR.1            1.0026           +0.0000j            1.0026            0.0000\n",
       "AR.2            5.7281           +0.0000j            5.7281            0.0000\n",
       "MA.1            1.2461           +0.0000j            1.2461            0.0000\n",
       "MA.2           -2.6122           +0.0000j            2.6122            0.5000\n",
       "-----------------------------------------------------------------------------\n",
       "\"\"\""
      ]
     },
     "execution_count": 32,
     "metadata": {},
     "output_type": "execute_result"
    }
   ],
   "source": [
    "modelo = ARIMA(ts, order=(2, 1, 2),freq=ts.index.inferred_freq) \n",
    "modelo_treinado = modelo.fit()\n",
    "modelo_treinado.summary()"
   ]
  },
  {
   "cell_type": "code",
   "execution_count": 33,
   "metadata": {},
   "outputs": [
    {
     "data": {
      "text/plain": [
       "array([25441183.61276318, 25628051.58347677, 25814925.49275842,\n",
       "       26001478.5907589 , 26187654.66519766, 26373444.73181858,\n",
       "       26558848.04924375, 26743865.31299203, 26928497.46730331,\n",
       "       27112745.49771349])"
      ]
     },
     "execution_count": 33,
     "metadata": {},
     "output_type": "execute_result"
    }
   ],
   "source": [
    "# Previsões de 10 datas no futuro\n",
    "previsoes = modelo_treinado.forecast(steps = 10)[0]\n",
    "previsoes"
   ]
  },
  {
   "cell_type": "code",
   "execution_count": 34,
   "metadata": {},
   "outputs": [
    {
     "data": {
      "text/plain": [
       "Text(0, 0.5, 'Valor em milhões')"
      ]
     },
     "execution_count": 34,
     "metadata": {},
     "output_type": "execute_result"
    },
    {
     "data": {
      "image/png": "[encoded data removed]",
      "text/plain": [
       "<Figure size 720x432 with 1 Axes>"
      ]
     },
     "metadata": {
      "needs_background": "light"
     },
     "output_type": "display_data"
    }
   ],
   "source": [
    "# Criação de eixo para a série temporal completa, com adição das previsões do modelo\n",
    "#lot_insample = True dados originais\n",
    "eixo = ts.plot(figsize=(10, 6))\n",
    "modelo_treinado.plot_predict('2021-01-31', '2022-02-28', ax = eixo, plot_insample = True)\n",
    "plt.suptitle('Forecast dados infectados Brasil')#, fontweight='bold', fontsize=20)\n",
    "plt.xlabel('Meses')#, fontweight='bold', fontsize=15)\n",
    "plt.ylabel('Valor em milhões')#, fontweight='bold', fontsize=15)"
   ]
  },
  {
   "cell_type": "markdown",
   "metadata": {},
   "source": [
    "- Podemos também incrementar ainda mais nossa função para ficar mais robusta"
   ]
  },
  {
   "cell_type": "code",
   "execution_count": 35,
   "metadata": {},
   "outputs": [],
   "source": [
    "def trans_data(data):\n",
    "    dados = pd.DataFrame(data).rename_axis('data')\n",
    "    dados.reset_index(level=0, inplace = True)\n",
    "    dados['data'] = pd.to_datetime(dados['data'])\n",
    "    dados = dados.set_index('data')\n",
    "    ts = dados['Brazil']\n",
    "    adf_test = ADFTest(alpha = 0.05)\n",
    "    adf_test.should_diff(ts)\n",
    "    modelo = ARIMA(ts, order=(2, 1, 2),freq=ts.index.inferred_freq) \n",
    "    modelo_treinado = modelo.fit(disp=False)\n",
    "    eixo = ts.plot(figsize=(10, 6))\n",
    "    modelo_treinado.plot_predict('2021-01-31', '2022-02-28', ax = eixo, plot_insample = True)\n",
    "    plt.suptitle('Forecast dados infectados Brasil')\n",
    "    plt.xlabel('Meses')\n",
    "    plt.ylabel('Valor em milhões')\n",
    "    return modelo_treinado"
   ]
  },
  {
   "cell_type": "code",
   "execution_count": 36,
   "metadata": {},
   "outputs": [
    {
     "data": {
      "text/plain": [
       "<statsmodels.tsa.arima_model.ARIMAResultsWrapper at 0x2537f1c70d0>"
      ]
     },
     "execution_count": 36,
     "metadata": {},
     "output_type": "execute_result"
    },
    {
     "data": {
      "image/png": "[encoded data removed]",
      "text/plain": [
       "<Figure size 720x432 with 1 Axes>"
      ]
     },
     "metadata": {
      "needs_background": "light"
     },
     "output_type": "display_data"
    }
   ],
   "source": [
    "data = trans_data(dados_Brasil)\n",
    "data"
   ]
  },
  {
   "cell_type": "markdown",
   "metadata": {},
   "source": [
    "# Nova analise com o métedo auto_ARIMA"
   ]
  },
  {
   "cell_type": "code",
   "execution_count": 46,
   "metadata": {},
   "outputs": [],
   "source": [
    "def autoArima(data):\n",
    "    dados = pd.DataFrame(data).rename_axis('data')\n",
    "    dados.reset_index(level=0, inplace = True)\n",
    "    dados['data'] = pd.to_datetime(dados['data'])\n",
    "    dados = dados.set_index('data')\n",
    "    return dados"
   ]
  },
  {
   "cell_type": "code",
   "execution_count": 47,
   "metadata": {},
   "outputs": [
    {
     "data": {
      "text/html": [
       "<div>\n",
       "<style scoped>\n",
       "    .dataframe tbody tr th:only-of-type {\n",
       "        vertical-align: middle;\n",
       "    }\n",
       "\n",
       "    .dataframe tbody tr th {\n",
       "        vertical-align: top;\n",
       "    }\n",
       "\n",
       "    .dataframe thead th {\n",
       "        text-align: right;\n",
       "    }\n",
       "</style>\n",
       "<table border=\"1\" class=\"dataframe\">\n",
       "  <thead>\n",
       "    <tr style=\"text-align: right;\">\n",
       "      <th></th>\n",
       "      <th>Brazil</th>\n",
       "    </tr>\n",
       "    <tr>\n",
       "      <th>data</th>\n",
       "      <th></th>\n",
       "    </tr>\n",
       "  </thead>\n",
       "  <tbody>\n",
       "    <tr>\n",
       "      <th>2020-02-26</th>\n",
       "      <td>1</td>\n",
       "    </tr>\n",
       "    <tr>\n",
       "      <th>2020-02-27</th>\n",
       "      <td>1</td>\n",
       "    </tr>\n",
       "    <tr>\n",
       "      <th>2020-02-28</th>\n",
       "      <td>1</td>\n",
       "    </tr>\n",
       "    <tr>\n",
       "      <th>2020-02-29</th>\n",
       "      <td>2</td>\n",
       "    </tr>\n",
       "    <tr>\n",
       "      <th>2020-03-01</th>\n",
       "      <td>2</td>\n",
       "    </tr>\n",
       "    <tr>\n",
       "      <th>...</th>\n",
       "      <td>...</td>\n",
       "    </tr>\n",
       "    <tr>\n",
       "      <th>2021-07-20</th>\n",
       "      <td>19419437</td>\n",
       "    </tr>\n",
       "    <tr>\n",
       "      <th>2021-07-21</th>\n",
       "      <td>19473954</td>\n",
       "    </tr>\n",
       "    <tr>\n",
       "      <th>2021-07-22</th>\n",
       "      <td>19523711</td>\n",
       "    </tr>\n",
       "    <tr>\n",
       "      <th>2021-07-23</th>\n",
       "      <td>19632443</td>\n",
       "    </tr>\n",
       "    <tr>\n",
       "      <th>2021-07-24</th>\n",
       "      <td>19670534</td>\n",
       "    </tr>\n",
       "  </tbody>\n",
       "</table>\n",
       "<p>515 rows × 1 columns</p>\n",
       "</div>"
      ],
      "text/plain": [
       "              Brazil\n",
       "data                \n",
       "2020-02-26         1\n",
       "2020-02-27         1\n",
       "2020-02-28         1\n",
       "2020-02-29         2\n",
       "2020-03-01         2\n",
       "...              ...\n",
       "2021-07-20  19419437\n",
       "2021-07-21  19473954\n",
       "2021-07-22  19523711\n",
       "2021-07-23  19632443\n",
       "2021-07-24  19670534\n",
       "\n",
       "[515 rows x 1 columns]"
      ]
     },
     "execution_count": 47,
     "metadata": {},
     "output_type": "execute_result"
    }
   ],
   "source": [
    "Brasil = autoArima(dados_Brasil)\n",
    "Brasil"
   ]
  },
  {
   "cell_type": "code",
   "execution_count": 48,
   "metadata": {},
   "outputs": [
    {
     "data": {
      "text/plain": [
       "(0.49502141172146563, True)"
      ]
     },
     "execution_count": 48,
     "metadata": {},
     "output_type": "execute_result"
    }
   ],
   "source": [
    "adf_test = ADFTest(alpha = 0.05)\n",
    "adf_test.should_diff(Brasil)"
   ]
  },
  {
   "cell_type": "code",
   "execution_count": 49,
   "metadata": {},
   "outputs": [
    {
     "data": {
      "text/plain": [
       "(515, 1)"
      ]
     },
     "execution_count": 49,
     "metadata": {},
     "output_type": "execute_result"
    }
   ],
   "source": [
    "Brasil.shape"
   ]
  },
  {
   "cell_type": "code",
   "execution_count": 50,
   "metadata": {},
   "outputs": [],
   "source": [
    "train = Brasil[:300]\n",
    "test = Brasil[-215:]"
   ]
  },
  {
   "cell_type": "code",
   "execution_count": 51,
   "metadata": {},
   "outputs": [
    {
     "data": {
      "text/html": [
       "<div>\n",
       "<style scoped>\n",
       "    .dataframe tbody tr th:only-of-type {\n",
       "        vertical-align: middle;\n",
       "    }\n",
       "\n",
       "    .dataframe tbody tr th {\n",
       "        vertical-align: top;\n",
       "    }\n",
       "\n",
       "    .dataframe thead th {\n",
       "        text-align: right;\n",
       "    }\n",
       "</style>\n",
       "<table border=\"1\" class=\"dataframe\">\n",
       "  <thead>\n",
       "    <tr style=\"text-align: right;\">\n",
       "      <th></th>\n",
       "      <th>Brazil</th>\n",
       "    </tr>\n",
       "    <tr>\n",
       "      <th>data</th>\n",
       "      <th></th>\n",
       "    </tr>\n",
       "  </thead>\n",
       "  <tbody>\n",
       "    <tr>\n",
       "      <th>2020-12-17</th>\n",
       "      <td>7110434</td>\n",
       "    </tr>\n",
       "    <tr>\n",
       "      <th>2020-12-18</th>\n",
       "      <td>7162978</td>\n",
       "    </tr>\n",
       "    <tr>\n",
       "      <th>2020-12-19</th>\n",
       "      <td>7213155</td>\n",
       "    </tr>\n",
       "    <tr>\n",
       "      <th>2020-12-20</th>\n",
       "      <td>7238600</td>\n",
       "    </tr>\n",
       "    <tr>\n",
       "      <th>2020-12-21</th>\n",
       "      <td>7263619</td>\n",
       "    </tr>\n",
       "  </tbody>\n",
       "</table>\n",
       "</div>"
      ],
      "text/plain": [
       "             Brazil\n",
       "data               \n",
       "2020-12-17  7110434\n",
       "2020-12-18  7162978\n",
       "2020-12-19  7213155\n",
       "2020-12-20  7238600\n",
       "2020-12-21  7263619"
      ]
     },
     "execution_count": 51,
     "metadata": {},
     "output_type": "execute_result"
    }
   ],
   "source": [
    "train.tail()"
   ]
  },
  {
   "cell_type": "code",
   "execution_count": 52,
   "metadata": {},
   "outputs": [
    {
     "data": {
      "text/html": [
       "<div>\n",
       "<style scoped>\n",
       "    .dataframe tbody tr th:only-of-type {\n",
       "        vertical-align: middle;\n",
       "    }\n",
       "\n",
       "    .dataframe tbody tr th {\n",
       "        vertical-align: top;\n",
       "    }\n",
       "\n",
       "    .dataframe thead th {\n",
       "        text-align: right;\n",
       "    }\n",
       "</style>\n",
       "<table border=\"1\" class=\"dataframe\">\n",
       "  <thead>\n",
       "    <tr style=\"text-align: right;\">\n",
       "      <th></th>\n",
       "      <th>Brazil</th>\n",
       "    </tr>\n",
       "    <tr>\n",
       "      <th>data</th>\n",
       "      <th></th>\n",
       "    </tr>\n",
       "  </thead>\n",
       "  <tbody>\n",
       "    <tr>\n",
       "      <th>2020-12-22</th>\n",
       "      <td>7318821</td>\n",
       "    </tr>\n",
       "    <tr>\n",
       "      <th>2020-12-23</th>\n",
       "      <td>7365517</td>\n",
       "    </tr>\n",
       "    <tr>\n",
       "      <th>2020-12-24</th>\n",
       "      <td>7423945</td>\n",
       "    </tr>\n",
       "    <tr>\n",
       "      <th>2020-12-25</th>\n",
       "      <td>7448560</td>\n",
       "    </tr>\n",
       "    <tr>\n",
       "      <th>2020-12-26</th>\n",
       "      <td>7465806</td>\n",
       "    </tr>\n",
       "  </tbody>\n",
       "</table>\n",
       "</div>"
      ],
      "text/plain": [
       "             Brazil\n",
       "data               \n",
       "2020-12-22  7318821\n",
       "2020-12-23  7365517\n",
       "2020-12-24  7423945\n",
       "2020-12-25  7448560\n",
       "2020-12-26  7465806"
      ]
     },
     "execution_count": 52,
     "metadata": {},
     "output_type": "execute_result"
    }
   ],
   "source": [
    "test.head()"
   ]
  },
  {
   "cell_type": "code",
   "execution_count": 53,
   "metadata": {},
   "outputs": [
    {
     "data": {
      "text/plain": [
       "[<matplotlib.lines.Line2D at 0x1a76abd4c10>]"
      ]
     },
     "execution_count": 53,
     "metadata": {},
     "output_type": "execute_result"
    },
    {
     "data": {
      "image/png": "[encoded data removed]",
      "text/plain": [
       "<Figure size 864x576 with 1 Axes>"
      ]
     },
     "metadata": {
      "needs_background": "light"
     },
     "output_type": "display_data"
    }
   ],
   "source": [
    "plt.figure(figsize=(12, 8))\n",
    "plt.plot(train)\n",
    "plt.plot(test)"
   ]
  },
  {
   "cell_type": "code",
   "execution_count": 54,
   "metadata": {},
   "outputs": [
    {
     "name": "stdout",
     "output_type": "stream",
     "text": [
      "Performing stepwise search to minimize aic\n",
      " ARIMA(0,1,0)(0,1,0)[12]             : AIC=6406.310, Time=0.03 sec\n",
      " ARIMA(1,1,0)(1,1,0)[12]             : AIC=6323.725, Time=0.22 sec\n",
      " ARIMA(0,1,1)(0,1,1)[12]             : AIC=6302.555, Time=0.25 sec\n",
      " ARIMA(0,1,1)(0,1,0)[12]             : AIC=6382.119, Time=0.06 sec\n",
      " ARIMA(0,1,1)(1,1,1)[12]             : AIC=6302.095, Time=0.66 sec\n",
      " ARIMA(0,1,1)(1,1,0)[12]             : AIC=6324.179, Time=0.44 sec\n",
      " ARIMA(0,1,1)(2,1,1)[12]             : AIC=6298.670, Time=0.79 sec\n",
      " ARIMA(0,1,1)(2,1,0)[12]             : AIC=6298.228, Time=0.42 sec\n",
      " ARIMA(0,1,1)(3,1,0)[12]             : AIC=6297.322, Time=0.85 sec\n",
      " ARIMA(0,1,1)(4,1,0)[12]             : AIC=6295.597, Time=1.70 sec\n",
      " ARIMA(0,1,1)(5,1,0)[12]             : AIC=6296.631, Time=2.75 sec\n",
      " ARIMA(0,1,1)(4,1,1)[12]             : AIC=6297.313, Time=2.98 sec\n",
      " ARIMA(0,1,1)(3,1,1)[12]             : AIC=6298.227, Time=1.94 sec\n",
      " ARIMA(0,1,1)(5,1,1)[12]             : AIC=6293.091, Time=9.08 sec\n",
      " ARIMA(0,1,1)(5,1,2)[12]             : AIC=6292.923, Time=19.31 sec\n",
      " ARIMA(0,1,1)(4,1,2)[12]             : AIC=6292.592, Time=6.51 sec\n",
      " ARIMA(0,1,1)(3,1,2)[12]             : AIC=6290.991, Time=2.88 sec\n",
      " ARIMA(0,1,1)(2,1,2)[12]             : AIC=6296.385, Time=1.10 sec\n",
      " ARIMA(0,1,1)(3,1,3)[12]             : AIC=6292.643, Time=4.01 sec\n",
      " ARIMA(0,1,1)(2,1,3)[12]             : AIC=6292.199, Time=3.77 sec\n",
      " ARIMA(0,1,1)(4,1,3)[12]             : AIC=6294.006, Time=8.67 sec\n",
      " ARIMA(0,1,0)(3,1,2)[12]             : AIC=6308.275, Time=3.05 sec\n",
      " ARIMA(1,1,1)(3,1,2)[12]             : AIC=6255.272, Time=4.63 sec\n",
      " ARIMA(1,1,1)(2,1,2)[12]             : AIC=6254.284, Time=2.36 sec\n",
      " ARIMA(1,1,1)(1,1,2)[12]             : AIC=inf, Time=5.16 sec\n",
      " ARIMA(1,1,1)(2,1,1)[12]             : AIC=6252.434, Time=1.83 sec\n",
      " ARIMA(1,1,1)(1,1,1)[12]             : AIC=inf, Time=1.48 sec\n",
      " ARIMA(1,1,1)(2,1,0)[12]             : AIC=6291.279, Time=0.64 sec\n",
      " ARIMA(1,1,1)(3,1,1)[12]             : AIC=6253.308, Time=3.84 sec\n",
      " ARIMA(1,1,1)(1,1,0)[12]             : AIC=6321.978, Time=0.23 sec\n",
      " ARIMA(1,1,1)(3,1,0)[12]             : AIC=6251.435, Time=2.66 sec\n",
      " ARIMA(1,1,1)(4,1,0)[12]             : AIC=6253.305, Time=5.27 sec\n",
      " ARIMA(1,1,1)(4,1,1)[12]             : AIC=inf, Time=10.65 sec\n",
      " ARIMA(1,1,0)(3,1,0)[12]             : AIC=6280.447, Time=1.64 sec\n",
      " ARIMA(2,1,1)(3,1,0)[12]             : AIC=6243.810, Time=4.48 sec\n",
      " ARIMA(2,1,1)(2,1,0)[12]             : AIC=6266.244, Time=2.02 sec\n",
      " ARIMA(2,1,1)(4,1,0)[12]             : AIC=6245.640, Time=7.99 sec\n",
      " ARIMA(2,1,1)(3,1,1)[12]             : AIC=6245.639, Time=5.83 sec\n",
      " ARIMA(2,1,1)(2,1,1)[12]             : AIC=6243.760, Time=2.77 sec\n",
      " ARIMA(2,1,1)(1,1,1)[12]             : AIC=inf, Time=1.42 sec\n",
      " ARIMA(2,1,1)(2,1,2)[12]             : AIC=6245.507, Time=2.93 sec\n",
      " ARIMA(2,1,1)(1,1,0)[12]             : AIC=6310.846, Time=0.78 sec\n",
      " ARIMA(2,1,1)(1,1,2)[12]             : AIC=6249.849, Time=3.06 sec\n",
      " ARIMA(2,1,1)(3,1,2)[12]             : AIC=inf, Time=9.38 sec\n",
      " ARIMA(2,1,0)(2,1,1)[12]             : AIC=6275.882, Time=1.38 sec\n",
      " ARIMA(3,1,1)(2,1,1)[12]             : AIC=6243.623, Time=3.49 sec\n",
      " ARIMA(3,1,1)(1,1,1)[12]             : AIC=6247.768, Time=2.01 sec\n",
      " ARIMA(3,1,1)(2,1,0)[12]             : AIC=6289.123, Time=1.08 sec\n",
      " ARIMA(3,1,1)(3,1,1)[12]             : AIC=6245.973, Time=6.79 sec\n",
      " ARIMA(3,1,1)(2,1,2)[12]             : AIC=6245.339, Time=5.82 sec\n",
      " ARIMA(3,1,1)(1,1,0)[12]             : AIC=6306.696, Time=0.49 sec\n",
      " ARIMA(3,1,1)(1,1,2)[12]             : AIC=6249.192, Time=5.74 sec\n",
      " ARIMA(3,1,1)(3,1,0)[12]             : AIC=6244.100, Time=5.39 sec\n",
      " ARIMA(3,1,1)(3,1,2)[12]             : AIC=inf, Time=9.21 sec\n",
      " ARIMA(3,1,0)(2,1,1)[12]             : AIC=6264.257, Time=1.61 sec\n",
      " ARIMA(4,1,1)(2,1,1)[12]             : AIC=6239.269, Time=5.52 sec\n",
      " ARIMA(4,1,1)(1,1,1)[12]             : AIC=6237.503, Time=2.40 sec\n",
      " ARIMA(4,1,1)(0,1,1)[12]             : AIC=inf, Time=2.74 sec\n",
      " ARIMA(4,1,1)(1,1,0)[12]             : AIC=inf, Time=1.77 sec\n",
      " ARIMA(4,1,1)(1,1,2)[12]             : AIC=inf, Time=6.19 sec\n",
      " ARIMA(4,1,1)(0,1,0)[12]             : AIC=6369.578, Time=0.24 sec\n",
      " ARIMA(4,1,1)(0,1,2)[12]             : AIC=inf, Time=6.26 sec\n",
      " ARIMA(4,1,1)(2,1,0)[12]             : AIC=6251.885, Time=3.56 sec\n",
      " ARIMA(4,1,1)(2,1,2)[12]             : AIC=6240.160, Time=8.00 sec\n",
      " ARIMA(4,1,0)(1,1,1)[12]             : AIC=6274.154, Time=1.00 sec\n",
      " ARIMA(5,1,1)(1,1,1)[12]             : AIC=6219.088, Time=4.24 sec\n",
      " ARIMA(5,1,1)(0,1,1)[12]             : AIC=inf, Time=2.05 sec\n",
      " ARIMA(5,1,1)(1,1,0)[12]             : AIC=6248.117, Time=2.76 sec\n",
      " ARIMA(5,1,1)(2,1,1)[12]             : AIC=6220.591, Time=4.23 sec\n",
      " ARIMA(5,1,1)(1,1,2)[12]             : AIC=6220.893, Time=4.61 sec\n",
      " ARIMA(5,1,1)(0,1,0)[12]             : AIC=6364.983, Time=0.25 sec\n",
      " ARIMA(5,1,1)(0,1,2)[12]             : AIC=6221.034, Time=3.45 sec\n",
      " ARIMA(5,1,1)(2,1,0)[12]             : AIC=6227.377, Time=4.59 sec\n",
      " ARIMA(5,1,1)(2,1,2)[12]             : AIC=inf, Time=7.17 sec\n",
      " ARIMA(5,1,0)(1,1,1)[12]             : AIC=6254.441, Time=1.10 sec\n",
      " ARIMA(5,1,2)(1,1,1)[12]             : AIC=6178.442, Time=4.05 sec\n",
      " ARIMA(5,1,2)(0,1,1)[12]             : AIC=inf, Time=2.46 sec\n",
      " ARIMA(5,1,2)(1,1,0)[12]             : AIC=6254.036, Time=1.71 sec\n",
      " ARIMA(5,1,2)(2,1,1)[12]             : AIC=inf, Time=nan sec\n",
      " ARIMA(5,1,2)(1,1,2)[12]             : AIC=6180.132, Time=5.58 sec\n",
      " ARIMA(5,1,2)(0,1,0)[12]             : AIC=6281.284, Time=1.04 sec\n",
      " ARIMA(5,1,2)(0,1,2)[12]             : AIC=6180.818, Time=5.30 sec\n",
      " ARIMA(5,1,2)(2,1,0)[12]             : AIC=inf, Time=13.63 sec\n",
      " ARIMA(5,1,2)(2,1,2)[12]             : AIC=inf, Time=7.34 sec\n",
      " ARIMA(4,1,2)(1,1,1)[12]             : AIC=inf, Time=3.33 sec\n",
      " ARIMA(5,1,3)(1,1,1)[12]             : AIC=inf, Time=3.89 sec\n",
      " ARIMA(4,1,3)(1,1,1)[12]             : AIC=inf, Time=2.83 sec\n",
      " ARIMA(5,1,2)(1,1,1)[12] intercept   : AIC=6257.684, Time=1.26 sec\n",
      "\n",
      "Best model:  ARIMA(5,1,2)(1,1,1)[12]          \n",
      "Total fit time: 324.839 seconds\n"
     ]
    }
   ],
   "source": [
    "arima_model =  auto_arima(train,start_p=0, d=1, start_q=0, \n",
    "                          max_p=5, max_d=5, max_q=5, start_P=0, \n",
    "                          D=1, start_Q=0, max_P=5, max_D=5,\n",
    "                          max_Q=5, m=12, seasonal=True, \n",
    "                          error_action='warn',trace = True,\n",
    "                          supress_warnings=True,stepwise = True,\n",
    "                          random_state=20,n_fits = 50 )"
   ]
  },
  {
   "cell_type": "code",
   "execution_count": 55,
   "metadata": {},
   "outputs": [
    {
     "data": {
      "text/html": [
       "<table class=\"simpletable\">\n",
       "<caption>SARIMAX Results</caption>\n",
       "<tr>\n",
       "  <th>Dep. Variable:</th>                   <td>y</td>                <th>  No. Observations:  </th>    <td>300</td>   \n",
       "</tr>\n",
       "<tr>\n",
       "  <th>Model:</th>           <td>SARIMAX(5, 1, 2)x(1, 1, [1], 12)</td> <th>  Log Likelihood     </th> <td>-3079.221</td>\n",
       "</tr>\n",
       "<tr>\n",
       "  <th>Date:</th>                    <td>Sun, 25 Jul 2021</td>         <th>  AIC                </th> <td>6178.442</td> \n",
       "</tr>\n",
       "<tr>\n",
       "  <th>Time:</th>                        <td>12:05:23</td>             <th>  BIC                </th> <td>6215.037</td> \n",
       "</tr>\n",
       "<tr>\n",
       "  <th>Sample:</th>                          <td>0</td>                <th>  HQIC               </th> <td>6193.109</td> \n",
       "</tr>\n",
       "<tr>\n",
       "  <th></th>                              <td> - 300</td>              <th>                     </th>     <td> </td>    \n",
       "</tr>\n",
       "<tr>\n",
       "  <th>Covariance Type:</th>                <td>opg</td>               <th>                     </th>     <td> </td>    \n",
       "</tr>\n",
       "</table>\n",
       "<table class=\"simpletable\">\n",
       "<tr>\n",
       "      <td></td>        <th>coef</th>     <th>std err</th>      <th>z</th>      <th>P>|z|</th>  <th>[0.025</th>    <th>0.975]</th>  \n",
       "</tr>\n",
       "<tr>\n",
       "  <th>ar.L1</th>    <td>    1.4689</td> <td>    0.138</td> <td>   10.660</td> <td> 0.000</td> <td>    1.199</td> <td>    1.739</td>\n",
       "</tr>\n",
       "<tr>\n",
       "  <th>ar.L2</th>    <td>   -0.9426</td> <td>    0.249</td> <td>   -3.787</td> <td> 0.000</td> <td>   -1.430</td> <td>   -0.455</td>\n",
       "</tr>\n",
       "<tr>\n",
       "  <th>ar.L3</th>    <td>    0.2613</td> <td>    0.297</td> <td>    0.878</td> <td> 0.380</td> <td>   -0.322</td> <td>    0.844</td>\n",
       "</tr>\n",
       "<tr>\n",
       "  <th>ar.L4</th>    <td>   -0.2298</td> <td>    0.275</td> <td>   -0.835</td> <td> 0.404</td> <td>   -0.769</td> <td>    0.310</td>\n",
       "</tr>\n",
       "<tr>\n",
       "  <th>ar.L5</th>    <td>    0.4422</td> <td>    0.144</td> <td>    3.076</td> <td> 0.002</td> <td>    0.160</td> <td>    0.724</td>\n",
       "</tr>\n",
       "<tr>\n",
       "  <th>ma.L1</th>    <td>   -1.2733</td> <td>    0.094</td> <td>  -13.613</td> <td> 0.000</td> <td>   -1.457</td> <td>   -1.090</td>\n",
       "</tr>\n",
       "<tr>\n",
       "  <th>ma.L2</th>    <td>    0.8666</td> <td>    0.089</td> <td>    9.714</td> <td> 0.000</td> <td>    0.692</td> <td>    1.041</td>\n",
       "</tr>\n",
       "<tr>\n",
       "  <th>ar.S.L12</th> <td>   -0.3153</td> <td>    0.167</td> <td>   -1.889</td> <td> 0.059</td> <td>   -0.642</td> <td>    0.012</td>\n",
       "</tr>\n",
       "<tr>\n",
       "  <th>ma.S.L12</th> <td>   -0.8021</td> <td>    0.104</td> <td>   -7.677</td> <td> 0.000</td> <td>   -1.007</td> <td>   -0.597</td>\n",
       "</tr>\n",
       "<tr>\n",
       "  <th>sigma2</th>   <td> 2.242e+08</td> <td> 2.11e-09</td> <td> 1.06e+17</td> <td> 0.000</td> <td> 2.24e+08</td> <td> 2.24e+08</td>\n",
       "</tr>\n",
       "</table>\n",
       "<table class=\"simpletable\">\n",
       "<tr>\n",
       "  <th>Ljung-Box (L1) (Q):</th>     <td>1.86</td>  <th>  Jarque-Bera (JB):  </th> <td>141.87</td>\n",
       "</tr>\n",
       "<tr>\n",
       "  <th>Prob(Q):</th>                <td>0.17</td>  <th>  Prob(JB):          </th>  <td>0.00</td> \n",
       "</tr>\n",
       "<tr>\n",
       "  <th>Heteroskedasticity (H):</th> <td>15.63</td> <th>  Skew:              </th>  <td>0.05</td> \n",
       "</tr>\n",
       "<tr>\n",
       "  <th>Prob(H) (two-sided):</th>    <td>0.00</td>  <th>  Kurtosis:          </th>  <td>6.44</td> \n",
       "</tr>\n",
       "</table><br/><br/>Warnings:<br/>[1] Covariance matrix calculated using the outer product of gradients (complex-step).<br/>[2] Covariance matrix is singular or near-singular, with condition number 6.79e+32. Standard errors may be unstable."
      ],
      "text/plain": [
       "<class 'statsmodels.iolib.summary.Summary'>\n",
       "\"\"\"\n",
       "                                      SARIMAX Results                                       \n",
       "============================================================================================\n",
       "Dep. Variable:                                    y   No. Observations:                  300\n",
       "Model:             SARIMAX(5, 1, 2)x(1, 1, [1], 12)   Log Likelihood               -3079.221\n",
       "Date:                              Sun, 25 Jul 2021   AIC                           6178.442\n",
       "Time:                                      12:05:23   BIC                           6215.037\n",
       "Sample:                                           0   HQIC                          6193.109\n",
       "                                              - 300                                         \n",
       "Covariance Type:                                opg                                         \n",
       "==============================================================================\n",
       "                 coef    std err          z      P>|z|      [0.025      0.975]\n",
       "------------------------------------------------------------------------------\n",
       "ar.L1          1.4689      0.138     10.660      0.000       1.199       1.739\n",
       "ar.L2         -0.9426      0.249     -3.787      0.000      -1.430      -0.455\n",
       "ar.L3          0.2613      0.297      0.878      0.380      -0.322       0.844\n",
       "ar.L4         -0.2298      0.275     -0.835      0.404      -0.769       0.310\n",
       "ar.L5          0.4422      0.144      3.076      0.002       0.160       0.724\n",
       "ma.L1         -1.2733      0.094    -13.613      0.000      -1.457      -1.090\n",
       "ma.L2          0.8666      0.089      9.714      0.000       0.692       1.041\n",
       "ar.S.L12      -0.3153      0.167     -1.889      0.059      -0.642       0.012\n",
       "ma.S.L12      -0.8021      0.104     -7.677      0.000      -1.007      -0.597\n",
       "sigma2      2.242e+08   2.11e-09   1.06e+17      0.000    2.24e+08    2.24e+08\n",
       "===================================================================================\n",
       "Ljung-Box (L1) (Q):                   1.86   Jarque-Bera (JB):               141.87\n",
       "Prob(Q):                              0.17   Prob(JB):                         0.00\n",
       "Heteroskedasticity (H):              15.63   Skew:                             0.05\n",
       "Prob(H) (two-sided):                  0.00   Kurtosis:                         6.44\n",
       "===================================================================================\n",
       "\n",
       "Warnings:\n",
       "[1] Covariance matrix calculated using the outer product of gradients (complex-step).\n",
       "[2] Covariance matrix is singular or near-singular, with condition number 6.79e+32. Standard errors may be unstable.\n",
       "\"\"\""
      ]
     },
     "execution_count": 55,
     "metadata": {},
     "output_type": "execute_result"
    }
   ],
   "source": [
    "arima_model.summary()"
   ]
  },
  {
   "cell_type": "code",
   "execution_count": 57,
   "metadata": {},
   "outputs": [
    {
     "data": {
      "text/html": [
       "<div>\n",
       "<style scoped>\n",
       "    .dataframe tbody tr th:only-of-type {\n",
       "        vertical-align: middle;\n",
       "    }\n",
       "\n",
       "    .dataframe tbody tr th {\n",
       "        vertical-align: top;\n",
       "    }\n",
       "\n",
       "    .dataframe thead th {\n",
       "        text-align: right;\n",
       "    }\n",
       "</style>\n",
       "<table border=\"1\" class=\"dataframe\">\n",
       "  <thead>\n",
       "    <tr style=\"text-align: right;\">\n",
       "      <th></th>\n",
       "      <th>brasil</th>\n",
       "    </tr>\n",
       "    <tr>\n",
       "      <th>data</th>\n",
       "      <th></th>\n",
       "    </tr>\n",
       "  </thead>\n",
       "  <tbody>\n",
       "    <tr>\n",
       "      <th>2020-12-22</th>\n",
       "      <td>7.319092e+06</td>\n",
       "    </tr>\n",
       "    <tr>\n",
       "      <th>2020-12-23</th>\n",
       "      <td>7.377099e+06</td>\n",
       "    </tr>\n",
       "    <tr>\n",
       "      <th>2020-12-24</th>\n",
       "      <td>7.439496e+06</td>\n",
       "    </tr>\n",
       "    <tr>\n",
       "      <th>2020-12-25</th>\n",
       "      <td>7.495842e+06</td>\n",
       "    </tr>\n",
       "    <tr>\n",
       "      <th>2020-12-26</th>\n",
       "      <td>7.538765e+06</td>\n",
       "    </tr>\n",
       "  </tbody>\n",
       "</table>\n",
       "</div>"
      ],
      "text/plain": [
       "                  brasil\n",
       "data                    \n",
       "2020-12-22  7.319092e+06\n",
       "2020-12-23  7.377099e+06\n",
       "2020-12-24  7.439496e+06\n",
       "2020-12-25  7.495842e+06\n",
       "2020-12-26  7.538765e+06"
      ]
     },
     "execution_count": 57,
     "metadata": {},
     "output_type": "execute_result"
    }
   ],
   "source": [
    "prediction = pd.DataFrame(arima_model.predict(n_periods = 215),index=test.index)\n",
    "prediction.columns = ['brasil']\n",
    "prediction.head()"
   ]
  },
  {
   "cell_type": "code",
   "execution_count": 58,
   "metadata": {},
   "outputs": [
    {
     "data": {
      "image/png": "[encoded data removed]",
      "text/plain": [
       "<Figure size 864x576 with 1 Axes>"
      ]
     },
     "metadata": {
      "needs_background": "light"
     },
     "output_type": "display_data"
    }
   ],
   "source": [
    "plt.figure(figsize=(12, 8))\n",
    "plt.plot(train,label=\"Training\")\n",
    "plt.plot(test,label=\"Test\")\n",
    "plt.plot(prediction,label=\"Predicted\")\n",
    "plt.legend(loc = 'Left corner')\n",
    "plt.show()"
   ]
  },
  {
   "cell_type": "code",
   "execution_count": 59,
   "metadata": {},
   "outputs": [
    {
     "data": {
      "text/plain": [
       "0.8821532355516701"
      ]
     },
     "execution_count": 59,
     "metadata": {},
     "output_type": "execute_result"
    }
   ],
   "source": [
    "from sklearn.metrics import r2_score\n",
    "test['brasil'] = prediction\n",
    "r2_score(test['Brazil'], test['brasil'])"
   ]
  },
  {
   "cell_type": "markdown",
   "metadata": {},
   "source": [
    "- Modelo mais simples"
   ]
  },
  {
   "cell_type": "code",
   "execution_count": 60,
   "metadata": {},
   "outputs": [
    {
     "data": {
      "text/html": [
       "<table class=\"simpletable\">\n",
       "<caption>SARIMAX Results</caption>\n",
       "<tr>\n",
       "  <th>Dep. Variable:</th>           <td>y</td>        <th>  No. Observations:  </th>    <td>515</td>   \n",
       "</tr>\n",
       "<tr>\n",
       "  <th>Model:</th>           <td>SARIMAX(5, 2, 2)</td> <th>  Log Likelihood     </th> <td>-5523.904</td>\n",
       "</tr>\n",
       "<tr>\n",
       "  <th>Date:</th>            <td>Sun, 25 Jul 2021</td> <th>  AIC                </th> <td>11063.808</td>\n",
       "</tr>\n",
       "<tr>\n",
       "  <th>Time:</th>                <td>12:07:15</td>     <th>  BIC                </th> <td>11097.731</td>\n",
       "</tr>\n",
       "<tr>\n",
       "  <th>Sample:</th>                  <td>0</td>        <th>  HQIC               </th> <td>11077.105</td>\n",
       "</tr>\n",
       "<tr>\n",
       "  <th></th>                      <td> - 515</td>      <th>                     </th>     <td> </td>    \n",
       "</tr>\n",
       "<tr>\n",
       "  <th>Covariance Type:</th>        <td>opg</td>       <th>                     </th>     <td> </td>    \n",
       "</tr>\n",
       "</table>\n",
       "<table class=\"simpletable\">\n",
       "<tr>\n",
       "     <td></td>       <th>coef</th>     <th>std err</th>      <th>z</th>      <th>P>|z|</th>  <th>[0.025</th>    <th>0.975]</th>  \n",
       "</tr>\n",
       "<tr>\n",
       "  <th>ar.L1</th>  <td>    0.1442</td> <td>    0.040</td> <td>    3.630</td> <td> 0.000</td> <td>    0.066</td> <td>    0.222</td>\n",
       "</tr>\n",
       "<tr>\n",
       "  <th>ar.L2</th>  <td>   -0.6000</td> <td>    0.029</td> <td>  -20.514</td> <td> 0.000</td> <td>   -0.657</td> <td>   -0.543</td>\n",
       "</tr>\n",
       "<tr>\n",
       "  <th>ar.L3</th>  <td>   -0.3652</td> <td>    0.033</td> <td>  -11.044</td> <td> 0.000</td> <td>   -0.430</td> <td>   -0.300</td>\n",
       "</tr>\n",
       "<tr>\n",
       "  <th>ar.L4</th>  <td>   -0.3567</td> <td>    0.036</td> <td>   -9.937</td> <td> 0.000</td> <td>   -0.427</td> <td>   -0.286</td>\n",
       "</tr>\n",
       "<tr>\n",
       "  <th>ar.L5</th>  <td>   -0.4846</td> <td>    0.040</td> <td>  -12.039</td> <td> 0.000</td> <td>   -0.563</td> <td>   -0.406</td>\n",
       "</tr>\n",
       "<tr>\n",
       "  <th>ma.L1</th>  <td>   -1.0154</td> <td>    0.039</td> <td>  -26.326</td> <td> 0.000</td> <td>   -1.091</td> <td>   -0.940</td>\n",
       "</tr>\n",
       "<tr>\n",
       "  <th>ma.L2</th>  <td>    0.7226</td> <td>    0.038</td> <td>   19.160</td> <td> 0.000</td> <td>    0.649</td> <td>    0.797</td>\n",
       "</tr>\n",
       "<tr>\n",
       "  <th>sigma2</th> <td> 1.333e+08</td> <td> 1.87e-10</td> <td> 7.12e+17</td> <td> 0.000</td> <td> 1.33e+08</td> <td> 1.33e+08</td>\n",
       "</tr>\n",
       "</table>\n",
       "<table class=\"simpletable\">\n",
       "<tr>\n",
       "  <th>Ljung-Box (L1) (Q):</th>     <td>0.87</td> <th>  Jarque-Bera (JB):  </th> <td>573.36</td>\n",
       "</tr>\n",
       "<tr>\n",
       "  <th>Prob(Q):</th>                <td>0.35</td> <th>  Prob(JB):          </th>  <td>0.00</td> \n",
       "</tr>\n",
       "<tr>\n",
       "  <th>Heteroskedasticity (H):</th> <td>8.09</td> <th>  Skew:              </th>  <td>0.39</td> \n",
       "</tr>\n",
       "<tr>\n",
       "  <th>Prob(H) (two-sided):</th>    <td>0.00</td> <th>  Kurtosis:          </th>  <td>8.12</td> \n",
       "</tr>\n",
       "</table><br/><br/>Warnings:<br/>[1] Covariance matrix calculated using the outer product of gradients (complex-step).<br/>[2] Covariance matrix is singular or near-singular, with condition number 9.98e+32. Standard errors may be unstable."
      ],
      "text/plain": [
       "<class 'statsmodels.iolib.summary.Summary'>\n",
       "\"\"\"\n",
       "                               SARIMAX Results                                \n",
       "==============================================================================\n",
       "Dep. Variable:                      y   No. Observations:                  515\n",
       "Model:               SARIMAX(5, 2, 2)   Log Likelihood               -5523.904\n",
       "Date:                Sun, 25 Jul 2021   AIC                          11063.808\n",
       "Time:                        12:07:15   BIC                          11097.731\n",
       "Sample:                             0   HQIC                         11077.105\n",
       "                                - 515                                         \n",
       "Covariance Type:                  opg                                         \n",
       "==============================================================================\n",
       "                 coef    std err          z      P>|z|      [0.025      0.975]\n",
       "------------------------------------------------------------------------------\n",
       "ar.L1          0.1442      0.040      3.630      0.000       0.066       0.222\n",
       "ar.L2         -0.6000      0.029    -20.514      0.000      -0.657      -0.543\n",
       "ar.L3         -0.3652      0.033    -11.044      0.000      -0.430      -0.300\n",
       "ar.L4         -0.3567      0.036     -9.937      0.000      -0.427      -0.286\n",
       "ar.L5         -0.4846      0.040    -12.039      0.000      -0.563      -0.406\n",
       "ma.L1         -1.0154      0.039    -26.326      0.000      -1.091      -0.940\n",
       "ma.L2          0.7226      0.038     19.160      0.000       0.649       0.797\n",
       "sigma2      1.333e+08   1.87e-10   7.12e+17      0.000    1.33e+08    1.33e+08\n",
       "===================================================================================\n",
       "Ljung-Box (L1) (Q):                   0.87   Jarque-Bera (JB):               573.36\n",
       "Prob(Q):                              0.35   Prob(JB):                         0.00\n",
       "Heteroskedasticity (H):               8.09   Skew:                             0.39\n",
       "Prob(H) (two-sided):                  0.00   Kurtosis:                         8.12\n",
       "===================================================================================\n",
       "\n",
       "Warnings:\n",
       "[1] Covariance matrix calculated using the outer product of gradients (complex-step).\n",
       "[2] Covariance matrix is singular or near-singular, with condition number 9.98e+32. Standard errors may be unstable.\n",
       "\"\"\""
      ]
     },
     "execution_count": 60,
     "metadata": {},
     "output_type": "execute_result"
    }
   ],
   "source": [
    "modelo_auto = auto_arima(ts, m = 12, seasonal = True, trace = False)\n",
    "modelo_auto.summary()"
   ]
  },
  {
   "cell_type": "code",
   "execution_count": 61,
   "metadata": {},
   "outputs": [
    {
     "data": {
      "text/plain": [
       "array([19702713.702059  , 19739871.85484392, 19788367.60407526,\n",
       "       19834289.50764736, 19907557.38047823, 19983260.97555983,\n",
       "       20037392.35560396, 20072387.59149318, 20108170.20915848,\n",
       "       20149307.63369676])"
      ]
     },
     "execution_count": 61,
     "metadata": {},
     "output_type": "execute_result"
    }
   ],
   "source": [
    "# Visualização dos próximos 10 valores\n",
    "proximos_10 = modelo_auto.predict(n_periods = 10)\n",
    "proximos_10 "
   ]
  },
  {
   "cell_type": "markdown",
   "metadata": {},
   "source": [
    "# Reset para exportar dados"
   ]
  },
  {
   "cell_type": "code",
   "execution_count": 37,
   "metadata": {},
   "outputs": [
    {
     "data": {
      "text/html": [
       "<div>\n",
       "<style scoped>\n",
       "    .dataframe tbody tr th:only-of-type {\n",
       "        vertical-align: middle;\n",
       "    }\n",
       "\n",
       "    .dataframe tbody tr th {\n",
       "        vertical-align: top;\n",
       "    }\n",
       "\n",
       "    .dataframe thead th {\n",
       "        text-align: right;\n",
       "    }\n",
       "</style>\n",
       "<table border=\"1\" class=\"dataframe\">\n",
       "  <thead>\n",
       "    <tr style=\"text-align: right;\">\n",
       "      <th></th>\n",
       "      <th>Paises</th>\n",
       "      <th>1/22/20</th>\n",
       "      <th>1/23/20</th>\n",
       "      <th>1/24/20</th>\n",
       "      <th>1/25/20</th>\n",
       "      <th>1/26/20</th>\n",
       "      <th>1/27/20</th>\n",
       "      <th>1/28/20</th>\n",
       "      <th>1/29/20</th>\n",
       "      <th>1/30/20</th>\n",
       "      <th>...</th>\n",
       "      <th>1/20/22</th>\n",
       "      <th>1/21/22</th>\n",
       "      <th>1/22/22</th>\n",
       "      <th>1/23/22</th>\n",
       "      <th>1/24/22</th>\n",
       "      <th>1/25/22</th>\n",
       "      <th>1/26/22</th>\n",
       "      <th>1/27/22</th>\n",
       "      <th>1/28/22</th>\n",
       "      <th>1/29/22</th>\n",
       "    </tr>\n",
       "  </thead>\n",
       "  <tbody>\n",
       "    <tr>\n",
       "      <th>0</th>\n",
       "      <td>Afghanistan</td>\n",
       "      <td>0</td>\n",
       "      <td>0</td>\n",
       "      <td>0</td>\n",
       "      <td>0</td>\n",
       "      <td>0</td>\n",
       "      <td>0</td>\n",
       "      <td>0</td>\n",
       "      <td>0</td>\n",
       "      <td>0</td>\n",
       "      <td>...</td>\n",
       "      <td>159303</td>\n",
       "      <td>159516</td>\n",
       "      <td>159548</td>\n",
       "      <td>159649</td>\n",
       "      <td>159896</td>\n",
       "      <td>160252</td>\n",
       "      <td>160692</td>\n",
       "      <td>161004</td>\n",
       "      <td>161057</td>\n",
       "      <td>161290</td>\n",
       "    </tr>\n",
       "    <tr>\n",
       "      <th>1</th>\n",
       "      <td>Albania</td>\n",
       "      <td>0</td>\n",
       "      <td>0</td>\n",
       "      <td>0</td>\n",
       "      <td>0</td>\n",
       "      <td>0</td>\n",
       "      <td>0</td>\n",
       "      <td>0</td>\n",
       "      <td>0</td>\n",
       "      <td>0</td>\n",
       "      <td>...</td>\n",
       "      <td>241512</td>\n",
       "      <td>244182</td>\n",
       "      <td>246412</td>\n",
       "      <td>248070</td>\n",
       "      <td>248070</td>\n",
       "      <td>248859</td>\n",
       "      <td>251015</td>\n",
       "      <td>252577</td>\n",
       "      <td>254126</td>\n",
       "      <td>254126</td>\n",
       "    </tr>\n",
       "    <tr>\n",
       "      <th>2</th>\n",
       "      <td>Algeria</td>\n",
       "      <td>0</td>\n",
       "      <td>0</td>\n",
       "      <td>0</td>\n",
       "      <td>0</td>\n",
       "      <td>0</td>\n",
       "      <td>0</td>\n",
       "      <td>0</td>\n",
       "      <td>0</td>\n",
       "      <td>0</td>\n",
       "      <td>...</td>\n",
       "      <td>230470</td>\n",
       "      <td>232325</td>\n",
       "      <td>234536</td>\n",
       "      <td>236670</td>\n",
       "      <td>238885</td>\n",
       "      <td>241406</td>\n",
       "      <td>243568</td>\n",
       "      <td>245698</td>\n",
       "      <td>247568</td>\n",
       "      <td>249310</td>\n",
       "    </tr>\n",
       "    <tr>\n",
       "      <th>3</th>\n",
       "      <td>Andorra</td>\n",
       "      <td>0</td>\n",
       "      <td>0</td>\n",
       "      <td>0</td>\n",
       "      <td>0</td>\n",
       "      <td>0</td>\n",
       "      <td>0</td>\n",
       "      <td>0</td>\n",
       "      <td>0</td>\n",
       "      <td>0</td>\n",
       "      <td>...</td>\n",
       "      <td>32201</td>\n",
       "      <td>33025</td>\n",
       "      <td>33025</td>\n",
       "      <td>33025</td>\n",
       "      <td>33025</td>\n",
       "      <td>34701</td>\n",
       "      <td>35028</td>\n",
       "      <td>35028</td>\n",
       "      <td>35556</td>\n",
       "      <td>35556</td>\n",
       "    </tr>\n",
       "    <tr>\n",
       "      <th>4</th>\n",
       "      <td>Angola</td>\n",
       "      <td>0</td>\n",
       "      <td>0</td>\n",
       "      <td>0</td>\n",
       "      <td>0</td>\n",
       "      <td>0</td>\n",
       "      <td>0</td>\n",
       "      <td>0</td>\n",
       "      <td>0</td>\n",
       "      <td>0</td>\n",
       "      <td>...</td>\n",
       "      <td>95220</td>\n",
       "      <td>95676</td>\n",
       "      <td>95902</td>\n",
       "      <td>96582</td>\n",
       "      <td>97263</td>\n",
       "      <td>97594</td>\n",
       "      <td>97812</td>\n",
       "      <td>97901</td>\n",
       "      <td>98029</td>\n",
       "      <td>98057</td>\n",
       "    </tr>\n",
       "    <tr>\n",
       "      <th>...</th>\n",
       "      <td>...</td>\n",
       "      <td>...</td>\n",
       "      <td>...</td>\n",
       "      <td>...</td>\n",
       "      <td>...</td>\n",
       "      <td>...</td>\n",
       "      <td>...</td>\n",
       "      <td>...</td>\n",
       "      <td>...</td>\n",
       "      <td>...</td>\n",
       "      <td>...</td>\n",
       "      <td>...</td>\n",
       "      <td>...</td>\n",
       "      <td>...</td>\n",
       "      <td>...</td>\n",
       "      <td>...</td>\n",
       "      <td>...</td>\n",
       "      <td>...</td>\n",
       "      <td>...</td>\n",
       "      <td>...</td>\n",
       "      <td>...</td>\n",
       "    </tr>\n",
       "    <tr>\n",
       "      <th>191</th>\n",
       "      <td>Vietnam</td>\n",
       "      <td>0</td>\n",
       "      <td>2</td>\n",
       "      <td>2</td>\n",
       "      <td>2</td>\n",
       "      <td>2</td>\n",
       "      <td>2</td>\n",
       "      <td>2</td>\n",
       "      <td>2</td>\n",
       "      <td>2</td>\n",
       "      <td>...</td>\n",
       "      <td>2094802</td>\n",
       "      <td>2110737</td>\n",
       "      <td>2126444</td>\n",
       "      <td>2141422</td>\n",
       "      <td>2155784</td>\n",
       "      <td>2171527</td>\n",
       "      <td>2187481</td>\n",
       "      <td>2203208</td>\n",
       "      <td>2218137</td>\n",
       "      <td>2233287</td>\n",
       "    </tr>\n",
       "    <tr>\n",
       "      <th>192</th>\n",
       "      <td>West Bank and Gaza</td>\n",
       "      <td>0</td>\n",
       "      <td>0</td>\n",
       "      <td>0</td>\n",
       "      <td>0</td>\n",
       "      <td>0</td>\n",
       "      <td>0</td>\n",
       "      <td>0</td>\n",
       "      <td>0</td>\n",
       "      <td>0</td>\n",
       "      <td>...</td>\n",
       "      <td>479343</td>\n",
       "      <td>480583</td>\n",
       "      <td>480583</td>\n",
       "      <td>480583</td>\n",
       "      <td>484979</td>\n",
       "      <td>488599</td>\n",
       "      <td>492694</td>\n",
       "      <td>500444</td>\n",
       "      <td>504992</td>\n",
       "      <td>504992</td>\n",
       "    </tr>\n",
       "    <tr>\n",
       "      <th>193</th>\n",
       "      <td>Yemen</td>\n",
       "      <td>0</td>\n",
       "      <td>0</td>\n",
       "      <td>0</td>\n",
       "      <td>0</td>\n",
       "      <td>0</td>\n",
       "      <td>0</td>\n",
       "      <td>0</td>\n",
       "      <td>0</td>\n",
       "      <td>0</td>\n",
       "      <td>...</td>\n",
       "      <td>10507</td>\n",
       "      <td>10585</td>\n",
       "      <td>10585</td>\n",
       "      <td>10585</td>\n",
       "      <td>10585</td>\n",
       "      <td>10585</td>\n",
       "      <td>10821</td>\n",
       "      <td>10888</td>\n",
       "      <td>10942</td>\n",
       "      <td>10942</td>\n",
       "    </tr>\n",
       "    <tr>\n",
       "      <th>194</th>\n",
       "      <td>Zambia</td>\n",
       "      <td>0</td>\n",
       "      <td>0</td>\n",
       "      <td>0</td>\n",
       "      <td>0</td>\n",
       "      <td>0</td>\n",
       "      <td>0</td>\n",
       "      <td>0</td>\n",
       "      <td>0</td>\n",
       "      <td>0</td>\n",
       "      <td>...</td>\n",
       "      <td>299971</td>\n",
       "      <td>300587</td>\n",
       "      <td>301203</td>\n",
       "      <td>301630</td>\n",
       "      <td>301924</td>\n",
       "      <td>302569</td>\n",
       "      <td>303266</td>\n",
       "      <td>304002</td>\n",
       "      <td>304353</td>\n",
       "      <td>304656</td>\n",
       "    </tr>\n",
       "    <tr>\n",
       "      <th>195</th>\n",
       "      <td>Zimbabwe</td>\n",
       "      <td>0</td>\n",
       "      <td>0</td>\n",
       "      <td>0</td>\n",
       "      <td>0</td>\n",
       "      <td>0</td>\n",
       "      <td>0</td>\n",
       "      <td>0</td>\n",
       "      <td>0</td>\n",
       "      <td>0</td>\n",
       "      <td>...</td>\n",
       "      <td>227552</td>\n",
       "      <td>227961</td>\n",
       "      <td>228179</td>\n",
       "      <td>228254</td>\n",
       "      <td>228541</td>\n",
       "      <td>228776</td>\n",
       "      <td>228943</td>\n",
       "      <td>229096</td>\n",
       "      <td>229333</td>\n",
       "      <td>229415</td>\n",
       "    </tr>\n",
       "  </tbody>\n",
       "</table>\n",
       "<p>196 rows × 740 columns</p>\n",
       "</div>"
      ],
      "text/plain": [
       "                 Paises  1/22/20  1/23/20  1/24/20  1/25/20  1/26/20  1/27/20  \\\n",
       "0           Afghanistan        0        0        0        0        0        0   \n",
       "1               Albania        0        0        0        0        0        0   \n",
       "2               Algeria        0        0        0        0        0        0   \n",
       "3               Andorra        0        0        0        0        0        0   \n",
       "4                Angola        0        0        0        0        0        0   \n",
       "..                  ...      ...      ...      ...      ...      ...      ...   \n",
       "191             Vietnam        0        2        2        2        2        2   \n",
       "192  West Bank and Gaza        0        0        0        0        0        0   \n",
       "193               Yemen        0        0        0        0        0        0   \n",
       "194              Zambia        0        0        0        0        0        0   \n",
       "195            Zimbabwe        0        0        0        0        0        0   \n",
       "\n",
       "     1/28/20  1/29/20  1/30/20  ...  1/20/22  1/21/22  1/22/22  1/23/22  \\\n",
       "0          0        0        0  ...   159303   159516   159548   159649   \n",
       "1          0        0        0  ...   241512   244182   246412   248070   \n",
       "2          0        0        0  ...   230470   232325   234536   236670   \n",
       "3          0        0        0  ...    32201    33025    33025    33025   \n",
       "4          0        0        0  ...    95220    95676    95902    96582   \n",
       "..       ...      ...      ...  ...      ...      ...      ...      ...   \n",
       "191        2        2        2  ...  2094802  2110737  2126444  2141422   \n",
       "192        0        0        0  ...   479343   480583   480583   480583   \n",
       "193        0        0        0  ...    10507    10585    10585    10585   \n",
       "194        0        0        0  ...   299971   300587   301203   301630   \n",
       "195        0        0        0  ...   227552   227961   228179   228254   \n",
       "\n",
       "     1/24/22  1/25/22  1/26/22  1/27/22  1/28/22  1/29/22  \n",
       "0     159896   160252   160692   161004   161057   161290  \n",
       "1     248070   248859   251015   252577   254126   254126  \n",
       "2     238885   241406   243568   245698   247568   249310  \n",
       "3      33025    34701    35028    35028    35556    35556  \n",
       "4      97263    97594    97812    97901    98029    98057  \n",
       "..       ...      ...      ...      ...      ...      ...  \n",
       "191  2155784  2171527  2187481  2203208  2218137  2233287  \n",
       "192   484979   488599   492694   500444   504992   504992  \n",
       "193    10585    10585    10821    10888    10942    10942  \n",
       "194   301924   302569   303266   304002   304353   304656  \n",
       "195   228541   228776   228943   229096   229333   229415  \n",
       "\n",
       "[196 rows x 740 columns]"
      ]
     },
     "execution_count": 37,
     "metadata": {},
     "output_type": "execute_result"
    }
   ],
   "source": [
    "df_pais.reset_index()"
   ]
  },
  {
   "cell_type": "code",
   "execution_count": 38,
   "metadata": {},
   "outputs": [],
   "source": [
    "df_pais.to_csv('dadosCovidPaises.csv')"
   ]
  }
 ],
 "metadata": {
  "kernelspec": {
   "display_name": "Python 3",
   "language": "python",
   "name": "python3"
  },
  "language_info": {
   "codemirror_mode": {
    "name": "ipython",
    "version": 3
   },
   "file_extension": ".py",
   "mimetype": "text/x-python",
   "name": "python",
   "nbconvert_exporter": "python",
   "pygments_lexer": "ipython3",
   "version": "3.8.5"
  }
 },
 "nbformat": 4,
 "nbformat_minor": 4
}
